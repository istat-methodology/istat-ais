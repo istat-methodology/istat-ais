{
 "cells": [
  {
   "cell_type": "code",
   "execution_count": 1,
   "id": "dea770b2",
   "metadata": {},
   "outputs": [],
   "source": [
    "import pandas as pd\n",
    "import numpy as np\n",
    "import configparser"
   ]
  },
  {
   "cell_type": "code",
   "execution_count": null,
   "id": "8af1ea71",
   "metadata": {},
   "outputs": [],
   "source": [
    "config = configparser.ConfigParser()\n",
    "config.read('ais_config.ini')"
   ]
  },
  {
   "cell_type": "code",
   "execution_count": null,
   "id": "dad83f98",
   "metadata": {},
   "outputs": [],
   "source": [
    "# read values from a section\n",
    "ais_dataset_name = config.get('INIT', 'ais_dataset_name')\n",
    "rotte_dataset_name = config.get('INIT', 'rotte_dataset_name')\n",
    "#rottesort_filename = config.get('PREPROCESS', 'rottesort_filename')\n",
    "\n",
    "world_porti_filename = config.get('INIT', 'world_porti_filename')\n",
    "arrivi_nei_porti_fname = config.get('ELABORATION','arrivi_nei_porti_fname')\n",
    "rotte_arrivi_porti_world_fname = config.get('ELABORATION','rotte_arrivi_porti_world_fname')\n",
    "rotte_arrivi_porti_all_fname = config.get('ELABORATION','rotte_arrivi_porti_all_fname')"
   ]
  },
  {
   "cell_type": "code",
   "execution_count": null,
   "id": "b3866e53",
   "metadata": {},
   "outputs": [],
   "source": [
    "ais_dataset = pd.read_csv(ais_dataset_name, sep=',')\n",
    "ais_dataset.head()"
   ]
  },
  {
   "cell_type": "code",
   "execution_count": null,
   "id": "d7a9a6a7",
   "metadata": {},
   "outputs": [],
   "source": [
    "vessels_mmsi = ais_dataset['mmsi'].unique().astype(int)\n",
    "vessels_imo = ais_dataset['imo'].unique().astype(int)\n",
    "\n",
    "print(len(vessels_mmsi))\n",
    "print(len(vessels_imo))"
   ]
  },
  {
   "cell_type": "code",
   "execution_count": null,
   "id": "48c46e0c",
   "metadata": {},
   "outputs": [],
   "source": [
    "rotte_dataset = pd.read_csv(rotte_dataset_name, sep=',', low_memory=False)"
   ]
  },
  {
   "cell_type": "code",
   "execution_count": null,
   "id": "2885c79f",
   "metadata": {},
   "outputs": [],
   "source": [
    "#drop NA values\n",
    "rotte_dataset=rotte_dataset.dropna()\n",
    "#Get index of rows containing wrong values\n",
    "i=rotte_dataset[rotte_dataset.stamp=='stamp'].index\n",
    "#drop rows containing wrong values\n",
    "rotte_dataset.drop(i,inplace=True)"
   ]
  },
  {
   "cell_type": "code",
   "execution_count": null,
   "id": "666c4bdb",
   "metadata": {},
   "outputs": [],
   "source": [
    "#build timestamp column to be added to rotte_092021 dataframe\n",
    "stamp=rotte_dataset['stamp'].astype(float)\n",
    "#stamp\n",
    "from datetime import datetime\n",
    "timestamp_column = stamp.apply(lambda x: datetime.fromtimestamp(x))\n",
    "#timestamp_column"
   ]
  },
  {
   "cell_type": "code",
   "execution_count": null,
   "id": "c82da544",
   "metadata": {},
   "outputs": [],
   "source": [
    "#add timestamp column to rotte_092021 dataframe\n",
    "rotte_dataset['timestamp'] = timestamp_column.values"
   ]
  },
  {
   "cell_type": "code",
   "execution_count": null,
   "id": "9fd57ea0",
   "metadata": {},
   "outputs": [],
   "source": [
    "#sort_dataset by mmsi,stamp,lng,lat\n",
    "rotte_dataset=rotte_dataset.sort_values(by=['mmsi','stamp','lng','lat'],ascending=[True,True,True,True])\n",
    "#rotte_dataset.head()"
   ]
  },
  {
   "cell_type": "code",
   "execution_count": null,
   "id": "ceb65277",
   "metadata": {},
   "outputs": [],
   "source": [
    "class Utils(object):\n",
    "   def intersect(self, nums1, nums2):\n",
    "      \"\"\"\n",
    "      :type nums1: List[int]\n",
    "      :type nums2: List[int]\n",
    "      :rtype: List[int]\n",
    "      \"\"\"\n",
    "      m = {}\n",
    "      print(len(nums1))\n",
    "      print(len(nums2))\n",
    "      if len(nums1)<len(nums2):\n",
    "         nums1,nums2 = nums2,nums1\n",
    "      for i in nums1:\n",
    "         if i not in m:\n",
    "            m[i] = 1\n",
    "         else:\n",
    "            m[i]+=1\n",
    "      result = []\n",
    "      for i in nums2:\n",
    "         if i in m and m[i]:\n",
    "            m[i]-=1\n",
    "            result.append(i)\n",
    "      return result"
   ]
  },
  {
   "cell_type": "code",
   "execution_count": null,
   "id": "1aeb416f",
   "metadata": {},
   "outputs": [],
   "source": [
    "rotte_dataset_mmsi =  rotte_dataset['mmsi'].unique().astype(int)\n",
    "print(len(rotte_dataset_mmsi))"
   ]
  },
  {
   "cell_type": "code",
   "execution_count": null,
   "id": "8169ccf5",
   "metadata": {},
   "outputs": [],
   "source": [
    "utils = Utils()\n",
    "mmsi_intersection = utils.intersect(vessels_mmsi.tolist(), rotte_dataset_mmsi.tolist())\n",
    "print(f'result intersection: {mmsi_intersection}')"
   ]
  },
  {
   "cell_type": "code",
   "execution_count": null,
   "id": "07f63749",
   "metadata": {},
   "outputs": [],
   "source": [
    "#Drop rows whose mmsi is not in rotte_092021_simplified(rotte_092021_mmsi,vessels_mmsi) from rotte_092021,\n",
    "# i.e. get only rows whos mmsi is in mmsi_intersection\n",
    "\n",
    "rotte_dataset_simplified = rotte_dataset[rotte_dataset['mmsi'].astype(int).isin(mmsi_intersection)]\n",
    "#rotte_dataset_simplified.head()\n",
    "#len(rotte_dataset_simplified)"
   ]
  },
  {
   "cell_type": "code",
   "execution_count": null,
   "id": "8e4d9d65",
   "metadata": {},
   "outputs": [],
   "source": [
    "rotte_dataset_simplified = rotte_dataset_simplified.reset_index()\n",
    "#rotte_dataset_simplified.head()"
   ]
  },
  {
   "cell_type": "markdown",
   "id": "f589df1c",
   "metadata": {},
   "source": [
    "ELABORAZIONE DELLE ROTTE"
   ]
  },
  {
   "cell_type": "code",
   "execution_count": null,
   "id": "e02bc6a2",
   "metadata": {},
   "outputs": [],
   "source": [
    "from datetime import datetime\n",
    "import haversine as hs\n",
    "from haversine import Unit"
   ]
  },
  {
   "cell_type": "code",
   "execution_count": null,
   "id": "d769f7c2",
   "metadata": {},
   "outputs": [],
   "source": [
    "#elaborazione degli arrivi (df)\n",
    "def arrival_elaboration(df_rotte):\n",
    "    #df_rotte = rottesort\n",
    "\n",
    "    dim=len(df_rotte)\n",
    "    print(\"df_rotte len before: \",dim)\n",
    "\n",
    "    df_arrival = pd.DataFrame(columns = ['row','mmsi','arrival','departure','lng','lat','lng_orig','lat_orig','speed','status'])\n",
    "\n",
    "    oldmmsi=0\n",
    "    sumrec=0\n",
    "    start=0\n",
    "    lat_orig=0\n",
    "    lng_orig=0\n",
    "    oldlng=0\n",
    "    oldlat=0\n",
    "    start='unknown'\n",
    "    #end='unknown'\n",
    "    status=0 ###0-nuovo 1-arrivato 2-partito\n",
    "\n",
    "    start_time = datetime.now()\n",
    "\n",
    "    for i in range(dim):\n",
    "        try:\n",
    "            mmsi = df_rotte.loc[i,'mmsi']            \n",
    "            time_voyage=df_rotte.loc[i,'timestamp']\n",
    "            lng=df_rotte.loc[i,'lng']\n",
    "            lat=df_rotte.loc[i,'lat']\n",
    "            speed=df_rotte.loc[i,'speed']\n",
    "\n",
    "            if(mmsi!=oldmmsi):\n",
    "                if (status==1):#si riferisce alla old ship\n",
    "                    df_arrival=df_arrival.append({'row':i,'mmsi':oldmmsi,'arrival':start,\n",
    "                           'departure':end,'lng':oldlng,'lat':oldlat,'lng_orig':lng_orig,'lat_orig':lat_orig,\n",
    "                            'speed':speed,'status':status},ignore_index=True)\n",
    "                start='unknown'\n",
    "                status=0\n",
    "                lng_orig=0\n",
    "                lat_orig=0\n",
    "                oldlng=0\n",
    "                oldlat=0\n",
    "    \n",
    "            if(speed==0):          \n",
    "                if (status==0):\n",
    "                    start=time_voyage\n",
    "                    oldlng=lng\n",
    "                    oldlat=lat\n",
    "                \n",
    "                #To calculate distance in meters\n",
    "                if(status<2):\n",
    "                    loc1=(lat,lng)\n",
    "                    loc2=(oldlat,oldlng)\n",
    "            \n",
    "                    distance = hs.haversine(loc1,loc2,unit=Unit.METERS)\n",
    "            \n",
    "                    if(distance > 3000.0):\n",
    "                        #print(distance)\n",
    "                        #if ((abs(oldlng-lng)+abs(oldlat-lat))>0.3):\n",
    "                        df_arrival=df_arrival.append({'row':i,'mmsi':oldmmsi,'arrival':start,\n",
    "                           'departure':end,'lng':oldlng,'lat':oldlat,\n",
    "                                       'lng_orig':lng_orig,'lat_orig':lat_orig,'speed':speed,'status':status},ignore_index=True)\n",
    "                        start=time_voyage\n",
    "                        lng_orig=oldlng\n",
    "                        lat_orig=oldlat\n",
    "                        oldlng=lng\n",
    "                        oldlat=lat\n",
    "                    \n",
    "                if(status==2):\n",
    "                    start=time_voyage\n",
    "                    lng_orig=oldlng\n",
    "                    lat_orig=oldlat\n",
    "                    oldlng=lng\n",
    "                    oldlat=lat                    \n",
    "                \n",
    "                end=time_voyage\n",
    "                status=1\n",
    "                \n",
    "            if (speed>0):\n",
    "                if(status==1):\n",
    "                    loc1=(lat,lng)\n",
    "                    loc2=(oldlat,oldlng)\n",
    "                    distance = hs.haversine(loc1,loc2,unit=Unit.METERS)\n",
    "                    if(distance > 3000.0):\n",
    "                        df_arrival=df_arrival.append({'row':i,'mmsi':oldmmsi,'arrival':start,\n",
    "                           'departure':end,'lng':oldlng,'lat':oldlat,\n",
    "                            'lng_orig':lng_orig,'lat_orig':lat_orig,'speed':speed,'status':2},ignore_index=True)\n",
    "                        status=2\n",
    "                        lng_orig=oldlng\n",
    "                        lat_orig=oldlat\n",
    "                if(status==0):\n",
    "                    status=2\n",
    "                   \n",
    "            #stampa di controllo\n",
    "            if(i%500000 == 0):\n",
    "               print(i)\n",
    "        except Exception as e:\n",
    "            print(i)\n",
    "            print(e)\n",
    "    #end for\n",
    "    \n",
    "    #scrive l'ultimo record\n",
    "    if(status==1):\n",
    "            df_arrival=df_arrival.append({'row':i,'mmsi':oldmmsi,'arrival':start,\n",
    "                        'departure':end,'lng':oldlng,'lat':oldlat,\n",
    "                        'lng_orig':lng_orig,'lat_orig':lat_orig,'speed':speed,'status':status},ignore_index=True)\n",
    "\n",
    " \n",
    "    end_time = datetime.now()\n",
    "    print('Duration: {}'.format(end_time - start_time))\n",
    "    print(\"df_arrival len after: \",len(df_arrival))\n",
    "    \n",
    "    return(df_arrival)"
   ]
  },
  {
   "cell_type": "code",
   "execution_count": null,
   "id": "6169e353",
   "metadata": {},
   "outputs": [],
   "source": [
    "df_rotte = rottesort[['mmsi','stamp','timestamp','lng','lat','speed']]\n",
    "df_rotte = df_rotte.sort_values(by=['mmsi','stamp'],ascending=[True,True])\n",
    "df_rotte = df_rotte.reset_index()"
   ]
  },
  {
   "cell_type": "code",
   "execution_count": null,
   "id": "c783819a",
   "metadata": {},
   "outputs": [],
   "source": [
    "df_arrival= arrival_elaboration(df_rotte)"
   ]
  },
  {
   "cell_type": "code",
   "execution_count": null,
   "id": "dcbdeee1",
   "metadata": {},
   "outputs": [],
   "source": [
    "#print(len(df_arrival))\n",
    "#6518\n",
    "#df_arrival[(df_arrival['speed']==0) & (df_arrival['status'] == 2)] # 0 records\n",
    "df_arrival[(df_arrival['speed']==0)]"
   ]
  },
  {
   "cell_type": "code",
   "execution_count": null,
   "id": "9ae14289",
   "metadata": {},
   "outputs": [],
   "source": [
    "world_porti = pd.read_csv(world_porti_filename, sep=',',low_memory=False)"
   ]
  },
  {
   "cell_type": "code",
   "execution_count": null,
   "id": "a302b7f6",
   "metadata": {},
   "outputs": [],
   "source": [
    "world_porti=world_porti[['Country','Name','Latitude','Longitude']]"
   ]
  },
  {
   "cell_type": "code",
   "execution_count": null,
   "id": "c5ffcbe2",
   "metadata": {},
   "outputs": [],
   "source": [
    "world_porti.reset_index(drop=True,inplace=True)"
   ]
  },
  {
   "cell_type": "code",
   "execution_count": null,
   "id": "f4cf3db7",
   "metadata": {},
   "outputs": [],
   "source": [
    "def port_assign(df_rotte,df_porti):\n",
    "    \n",
    "    rotte_n = len(df_rotte)\n",
    "    df = df_rotte\n",
    "    df[\"port\"] = [\"null\"]*rotte_n\n",
    "    df[\"port_orig\"] = [\"null\"]*rotte_n\n",
    "    \n",
    "    start_time = datetime.now()\n",
    "    \n",
    "    for i in range(rotte_n):\n",
    "        found_orig=0\n",
    "        found=0\n",
    "        loc_orig=(df.loc[i,'lat_orig'],df.loc[i,'lng_orig'])\n",
    "        loc=(df.loc[i,'lat'],df.loc[i,'lng'])\n",
    "        \n",
    "        for j in range(len(df_porti)):            \n",
    "            loc_port=(df_porti.loc[j,'Latitude'],df_porti.loc[j,'Longitude'])            \n",
    "            distance1 = hs.haversine(loc,loc_port,unit=Unit.METERS)\n",
    "            if(distance1 < 3000.0):\n",
    "                df.loc[i,'port']=df_porti.loc[j,'Name']\n",
    "                found=1\n",
    "                break\n",
    "        \n",
    "        if (found==0):\n",
    "            df.loc[i,'port']='Not found'\n",
    "        \n",
    "        for j in range(len(df_porti)):            \n",
    "            loc_port=(df_porti.loc[j,'Latitude'],df_porti.loc[j,'Longitude'])\n",
    "            distance2 = hs.haversine(loc_orig,loc_port,unit=Unit.METERS)\n",
    "            if(distance2 < 3000.0):\n",
    "                df.loc[i,'port_orig']=df_porti.loc[j,'Name']\n",
    "                found_orig=1  \n",
    "                break\n",
    "                \n",
    "        if (found_orig==0):\n",
    "            df.loc[i,'port_orig']='Not found'\n",
    "            \n",
    "        #stampa di controllo\n",
    "        if(i%3000 == 0):\n",
    "               print(i)\n",
    "    \n",
    "    end_time = datetime.now()\n",
    "    print('Duration: {}'.format(end_time - start_time))\n",
    "    print(\"df_arrival len after: \",len(df_arrival))\n",
    "        \n",
    "    return(df)"
   ]
  },
  {
   "cell_type": "code",
   "execution_count": null,
   "id": "f268b05d",
   "metadata": {},
   "outputs": [],
   "source": [
    "df_rotte_arrivi_porti = port_assign(df_arrival,world_porti)"
   ]
  },
  {
   "cell_type": "markdown",
   "id": "46b297dd",
   "metadata": {},
   "source": [
    "ADD INFORMATION TO THE DATASET"
   ]
  },
  {
   "cell_type": "code",
   "execution_count": null,
   "id": "d59a7287",
   "metadata": {},
   "outputs": [],
   "source": [
    "vessels_mmsi_imo_dict = pd.Series(ais_dataset.imo.values,index=ais_dataset.mmsi).to_dict()\n",
    "vessels_mmsi_callsign_dict = pd.Series(ais_dataset.callsign.values,index=ais_dataset.mmsi).to_dict()\n",
    "vessels_mmsi_type_dict = pd.Series(ais_dataset.type.values,index=ais_dataset.mmsi).to_dict()\n",
    "\n",
    "vessels_mmsi_imo_clean_dict = {k: vessels_mmsi_imo_dict[k] for k in vessels_mmsi_imo_dict if not pd.isna(vessels_mmsi_imo_dict[k])}\n",
    "vessels_mmsi_callsign_clean_dict = {k: vessels_mmsi_callsign_dict[k] for k in vessels_mmsi_callsign_dict if not pd.isna(vessels_mmsi_callsign_dict[k])}\n",
    "vessels_mmsi_type_clean_dict = {k: vessels_mmsi_type_dict[k] for k in vessels_mmsi_type_dict if not pd.isna(vessels_mmsi_type_dict[k])}"
   ]
  },
  {
   "cell_type": "code",
   "execution_count": null,
   "id": "33289369",
   "metadata": {},
   "outputs": [],
   "source": [
    "df_rotte_arrivi_porti[\"imo\"] = df_rotte_arrivi_porti[\"mmsi\"].astype(int)\n",
    "df_rotte_arrivi_porti['imo'].replace(vessels_mmsi_imo_clean_dict ,inplace=True)\n",
    "\n",
    "df_rotte_arrivi_porti[\"callsign\"] = df_rotte_arrivi_porti[\"mmsi\"].astype(int)\n",
    "df_rotte_arrivi_porti['callsign'].replace(vessels_mmsi_callsign_clean_dict ,inplace=True)\n",
    "\n",
    "df_rotte_arrivi_porti['type'] = df_rotte_arrivi_porti[\"mmsi\"].astype(int)\n",
    "df_rotte_arrivi_porti['type'].replace(vessels_mmsi_type_clean_dict ,inplace=True)"
   ]
  },
  {
   "cell_type": "code",
   "execution_count": null,
   "id": "a6c37354",
   "metadata": {},
   "outputs": [],
   "source": [
    "#export all records\n",
    "df_rotte_arrivi_porti.to_csv(rotte_arrivi_porti_all_fname,index=False,sep=',')\n",
    "df_rotte_arrivi_porti"
   ]
  },
  {
   "cell_type": "code",
   "execution_count": null,
   "id": "070094e6",
   "metadata": {},
   "outputs": [],
   "source": [
    "#export only records such that a port has been found\n",
    "df_rotte_arrivi_porti_world_found = df_rotte_arrivi_porti[(df_rotte_arrivi_porti['port'] != 'Not found')]\n",
    "df_rotte_arrivi_porti_world_found.to_csv(rotte_arrivi_porti_world_fname,index=False,sep=',')"
   ]
  },
  {
   "cell_type": "markdown",
   "id": "de426532",
   "metadata": {},
   "source": [
    "COMPUTE STATISTICS OF ARRIVALS IN THE PORTS"
   ]
  },
  {
   "cell_type": "code",
   "execution_count": null,
   "id": "728eae0a",
   "metadata": {},
   "outputs": [],
   "source": [
    "df_rotte_arrivi_porti_world_found.query(\"status > 0\").groupby(['port']).count().to_csv(arrivi_nei_porti_fname,sep=';')"
   ]
  },
  {
   "cell_type": "code",
   "execution_count": null,
   "id": "6bbdd1c5",
   "metadata": {},
   "outputs": [],
   "source": [
    "#check\n",
    "df_rotte_arrivi_porti_world_found[(df_rotte_arrivi_porti_world_found['speed']==0)]"
   ]
  }
 ],
 "metadata": {
  "kernelspec": {
   "display_name": "Python 3 (ipykernel)",
   "language": "python",
   "name": "python3"
  },
  "language_info": {
   "codemirror_mode": {
    "name": "ipython",
    "version": 3
   },
   "file_extension": ".py",
   "mimetype": "text/x-python",
   "name": "python",
   "nbconvert_exporter": "python",
   "pygments_lexer": "ipython3",
   "version": "3.9.7"
  }
 },
 "nbformat": 4,
 "nbformat_minor": 5
}
