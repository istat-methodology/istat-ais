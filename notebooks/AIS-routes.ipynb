{
  "cells": [
    {
      "cell_type": "code",
      "source": [
        "import pandas as pd\n",
        "import numpy as np"
      ],
      "outputs": [],
      "execution_count": 1,
      "metadata": {
        "gather": {
          "logged": 1658908455764
        }
      },
      "id": "2aaa6578-ed9c-49f5-9f19-04f5988d633c"
    },
    {
      "cell_type": "code",
      "source": [
        "#!pip install haversine"
      ],
      "outputs": [],
      "execution_count": 2,
      "metadata": {
        "gather": {
          "logged": 1658908458915
        }
      },
      "id": "811cd6ae-13d7-4236-b478-0c7c817acb2e"
    },
    {
      "cell_type": "code",
      "source": [
        "from azureml.core import Datastore,Workspace,Dataset\r\n",
        "# Get a named datastore from the current workspace\r\n",
        "ws = Workspace.from_config()\r\n",
        "datastore = Datastore.get(ws, datastore_name='aisdatastore')"
      ],
      "outputs": [],
      "execution_count": 3,
      "metadata": {
        "jupyter": {
          "source_hidden": false,
          "outputs_hidden": false
        },
        "nteract": {
          "transient": {
            "deleting": false
          }
        },
        "gather": {
          "logged": 1658908463167
        }
      },
      "id": "c28cd2c6-0618-4413-a829-7f0a924e4f21"
    },
    {
      "cell_type": "code",
      "source": [
        "rotte_dataset = ws.datasets[\"rotte\"]"
      ],
      "outputs": [],
      "execution_count": 4,
      "metadata": {
        "jupyter": {
          "source_hidden": false,
          "outputs_hidden": false
        },
        "nteract": {
          "transient": {
            "deleting": false
          }
        },
        "gather": {
          "logged": 1658908470426
        }
      },
      "id": "8dd1b8f9-d80e-481d-82ce-43aaefbc963f"
    },
    {
      "cell_type": "code",
      "source": [
        "from datetime import datetime\r\n",
        "\r\n",
        "def preprocessRotte(df):\r\n",
        "\r\n",
        "    df = df.to_pandas_dataframe()\r\n",
        "    #drop NA values\r\n",
        "    df=df.dropna()\r\n",
        "    #build timestamp column to be added to rotte_092021 dataframe\r\n",
        "    stamp=df['stamp'].astype(float)\r\n",
        "    #stamp    \r\n",
        "    timestamp_column = stamp.apply(lambda x: datetime.fromtimestamp(x))\r\n",
        "    #timestamp_column\r\n",
        "    #add timestamp column to rotte_092021 dataframe\r\n",
        "    df['timestamp'] = timestamp_column.values\r\n",
        "    #sort_dataset by mmsi,stamp,lng,lat\r\n",
        "    df = df.sort_values(by=['mmsi','stamp','lng','lat'],ascending=[True,True,True,True])\r\n",
        "    \r\n",
        "    return df"
      ],
      "outputs": [],
      "execution_count": 5,
      "metadata": {
        "jupyter": {
          "source_hidden": false,
          "outputs_hidden": false
        },
        "nteract": {
          "transient": {
            "deleting": false
          }
        },
        "gather": {
          "logged": 1658908472089
        }
      },
      "id": "98f81e73-f3a7-4567-90ec-6082bee3a439"
    },
    {
      "cell_type": "code",
      "source": [
        "rotte_dataset = preprocessRotte(rotte_dataset)"
      ],
      "outputs": [
        {
          "output_type": "stream",
          "name": "stdout",
          "text": "Resolving access token for scope \"https://datalake.azure.net//.default\" using identity of type \"MANAGED\".\nGetting data access token with Assigned Identity (client_id=clientid) and endpoint type based on configuration\n"
        }
      ],
      "execution_count": 6,
      "metadata": {
        "jupyter": {
          "source_hidden": false,
          "outputs_hidden": false
        },
        "nteract": {
          "transient": {
            "deleting": false
          }
        },
        "gather": {
          "logged": 1658908639792
        }
      },
      "id": "7339772e-b0c3-4c25-955e-5554dcd81fb2"
    },
    {
      "cell_type": "code",
      "source": [
        "ais_dataset =  ws.datasets[\"ais\"]"
      ],
      "outputs": [],
      "execution_count": 8,
      "metadata": {
        "jupyter": {
          "source_hidden": false,
          "outputs_hidden": false
        },
        "nteract": {
          "transient": {
            "deleting": false
          }
        },
        "gather": {
          "logged": 1658908812597
        }
      },
      "id": "c67447a6-d425-430c-b344-3ada7dab99e5"
    },
    {
      "cell_type": "code",
      "source": [
        "shiptypeDict = {\r\n",
        "    \"0\": \"Unspecified\",\r\n",
        "    \"1\": \"NULL\",\r\n",
        "    \"2\": \"Fishing\",\r\n",
        "    \"3\": \"Search and Rescue/Special Craft/Tug/Passenger/Other\",\r\n",
        "    \"4\": \"High Speed Craft\",\r\n",
        "    \"6\": \"Passenger\",\r\n",
        "    \"7\": \"Cargo\",\r\n",
        "    \"8\": \"Tanker\",\r\n",
        "    \"9\": \"Sailing Vessel/Pleasure Craft\"\r\n",
        "}\r\n"
      ],
      "outputs": [],
      "execution_count": 9,
      "metadata": {
        "jupyter": {
          "source_hidden": false,
          "outputs_hidden": false
        },
        "nteract": {
          "transient": {
            "deleting": false
          }
        },
        "gather": {
          "logged": 1658908814147
        }
      },
      "id": "e4af6429-e0d3-450e-ba50-e19a1a2b7e4a"
    },
    {
      "cell_type": "code",
      "source": [
        "def setShipTypeDesc (row):\r\n",
        "    if row['type_summary'] == 'NULL':\r\n",
        "        row['shiptype_desc'] = shiptypeDict[str(row['shiptype'])]\r\n",
        "    else:\r\n",
        "        row['shiptype_desc'] = row['type_summary']"
      ],
      "outputs": [],
      "execution_count": 10,
      "metadata": {
        "jupyter": {
          "source_hidden": false,
          "outputs_hidden": false
        },
        "nteract": {
          "transient": {
            "deleting": false
          }
        },
        "gather": {
          "logged": 1658908820195
        }
      },
      "id": "1690556f-c29b-4c80-b470-1d868c20f4fc"
    },
    {
      "cell_type": "code",
      "source": [
        "def preprocessAIS(df):\r\n",
        "\r\n",
        "    df = df.to_pandas_dataframe()\r\n",
        "    #set type when is NULL\r\n",
        "    df['shiptype_desc'] = df.apply(lambda x: (shiptypeDict[str(x.shiptype)] if x.type_summary == 'NULL' else x.type_summary), axis=1)\r\n",
        "    #keep vessels whose type != Fishing\r\n",
        "    df = df[df['shiptype']!=2]\r\n",
        "    \r\n",
        "    return df"
      ],
      "outputs": [],
      "execution_count": 11,
      "metadata": {
        "jupyter": {
          "source_hidden": false,
          "outputs_hidden": false
        },
        "nteract": {
          "transient": {
            "deleting": false
          }
        },
        "gather": {
          "logged": 1658908824208
        }
      },
      "id": "b15f1d95-211a-4918-85da-f5c6d418f5d5"
    },
    {
      "cell_type": "code",
      "source": [
        "ais_dataset = preprocessAIS(ais_dataset)"
      ],
      "outputs": [],
      "execution_count": 12,
      "metadata": {
        "jupyter": {
          "source_hidden": false,
          "outputs_hidden": false
        },
        "nteract": {
          "transient": {
            "deleting": false
          }
        },
        "gather": {
          "logged": 1658908830793
        }
      },
      "id": "eb1d7842-b3af-4e45-b7ed-c8d86a48eb9d"
    },
    {
      "cell_type": "code",
      "source": [
        "vessels_type = ais_dataset['type_summary'].unique()\n",
        "vessels_flag = ais_dataset['flag'].unique()\n",
        "print(vessels_type)\n",
        "print(vessels_flag)"
      ],
      "outputs": [
        {
          "output_type": "stream",
          "name": "stdout",
          "text": "['Cargo' 'Tug' 'Pleasure Craft' 'NULL' 'Passenger' 'Tanker'\n 'Special Craft' 'High Speed Craft' 'Sailing Vessel' 'Search and Rescue'\n 'Other' 'Unspecified']\n['--' 'KY' 'IT' 'GB' 'DZ' 'MH' 'AL' 'BE' 'BG' 'CY' 'DE' 'MD' 'MT' 'DK'\n 'ES' 'FR' 'GI' 'GR' 'HR' 'MA' 'NL' 'PA' 'KI' 'RU' 'BS' 'LU' 'MC' 'PT'\n 'NO' 'SE' 'CH' 'TR' 'UA' 'LV' 'LT' 'AG' 'BM' 'BZ' 'BB' 'HN' 'US' 'JM'\n 'KN' 'VC' 'VG' 'SA' 'CN' 'TW' 'AZ' 'IL' 'JP' 'KZ' 'KR' 'KW' 'LB' 'QA'\n 'HK' 'PW' 'CK' 'NU' 'PH' 'SG' 'TV' 'VN' 'VU' 'WF' 'CM' 'KM' 'EG' 'LR'\n 'PL' 'LY' 'SL' 'TG' 'TN']\n"
        }
      ],
      "execution_count": 13,
      "metadata": {
        "gather": {
          "logged": 1658908831923
        }
      },
      "id": "7f09928a-b58f-4da2-b4ed-acb0f56bbc8f"
    },
    {
      "cell_type": "code",
      "source": [
        "vessels_mmsi = ais_dataset['mmsi'].unique().astype(int)\n",
        "vessels_imo = ais_dataset['imo'].unique().astype(int)\n",
        "\n",
        "print(len(vessels_mmsi))\n",
        "print(len(vessels_imo))"
      ],
      "outputs": [
        {
          "output_type": "stream",
          "name": "stdout",
          "text": "3150\n3122\n"
        }
      ],
      "execution_count": 14,
      "metadata": {
        "gather": {
          "logged": 1658908835589
        }
      },
      "id": "2016c020-6edf-4486-97eb-d597a879322f"
    },
    {
      "cell_type": "code",
      "source": [
        "world_porti = ws.datasets[\"porti1\"]"
      ],
      "outputs": [],
      "execution_count": 15,
      "metadata": {
        "jupyter": {
          "source_hidden": false,
          "outputs_hidden": false
        },
        "nteract": {
          "transient": {
            "deleting": false
          }
        },
        "gather": {
          "logged": 1658908838704
        }
      },
      "id": "60fb0fcb-1433-48c0-95b7-b0e01045d3b6"
    },
    {
      "cell_type": "code",
      "source": [
        "def preprocessPorts(df):\r\n",
        "\r\n",
        "    try:\r\n",
        "        df = df.to_pandas_dataframe()\r\n",
        "    except Exception as e:\r\n",
        "        print(e)\r\n",
        "    df = df[['Country','Name','Latitude','Longitude','UNLocode']]\r\n",
        "    df.reset_index(drop=True,inplace=True)\r\n",
        "    return df\r\n"
      ],
      "outputs": [],
      "execution_count": 16,
      "metadata": {
        "jupyter": {
          "source_hidden": false,
          "outputs_hidden": false
        },
        "nteract": {
          "transient": {
            "deleting": false
          }
        },
        "gather": {
          "logged": 1658908839570
        }
      },
      "id": "c97e6b98-0525-4045-9b1f-4f9c4a4054ca"
    },
    {
      "cell_type": "code",
      "source": [
        "world_porti = preprocessPorts(world_porti)"
      ],
      "outputs": [],
      "execution_count": 17,
      "metadata": {
        "jupyter": {
          "source_hidden": false,
          "outputs_hidden": false
        },
        "nteract": {
          "transient": {
            "deleting": false
          }
        },
        "gather": {
          "logged": 1658908845385
        }
      },
      "id": "d58617e3-93e9-4e76-9aa4-156bdb09a761"
    },
    {
      "cell_type": "code",
      "source": [
        "#Drop rows whose mmsi is not in rotte_092021_simplified(rotte_092021_mmsi,vessels_mmsi) from rotte_092021,\n",
        "# i.e. get only rows whos mmsi is in mmsi_intersection\n",
        "\n",
        "rotte_dataset_simplified = rotte_dataset[rotte_dataset['mmsi'].astype(int).isin(vessels_mmsi)]\n",
        "#rotte_dataset_simplified.head()\n",
        "print(len(rotte_dataset_simplified))\n",
        "rotte_dataset_simplified = rotte_dataset_simplified.reset_index()\n",
        "#rotte_dataset_simplified.head()"
      ],
      "outputs": [
        {
          "output_type": "stream",
          "name": "stdout",
          "text": "33334193\n"
        }
      ],
      "execution_count": 18,
      "metadata": {
        "gather": {
          "logged": 1658908874362
        }
      },
      "id": "d84c88a0-703a-46aa-8948-9a019c86e5f7"
    },
    {
      "cell_type": "markdown",
      "source": [
        "ELABORAZIONE DELLE ROTTE"
      ],
      "metadata": {
        "nteract": {
          "transient": {
            "deleting": false
          }
        }
      },
      "id": "28d156e4-99f3-4b7f-815a-c97b137a403b"
    },
    {
      "cell_type": "code",
      "source": [
        "from datetime import datetime\r\n",
        "import haversine as hs\r\n",
        "from haversine import Unit"
      ],
      "outputs": [],
      "execution_count": 19,
      "metadata": {
        "jupyter": {
          "source_hidden": false,
          "outputs_hidden": false
        },
        "nteract": {
          "transient": {
            "deleting": false
          }
        },
        "gather": {
          "logged": 1658908885730
        }
      },
      "id": "01525f2e-41e6-4889-9c5a-2af99bed975f"
    },
    {
      "cell_type": "code",
      "source": [
        "#elaborazione degli arrivi (df)\r\n",
        "def arrival_elaboration(df_rotte):\r\n",
        "\r\n",
        "    dim=len(df_rotte)\r\n",
        "    print(\"df_rotte len before: \",dim)\r\n",
        "\r\n",
        "    df_arrival = pd.DataFrame(columns = ['row','mmsi','arrival','departure','lng','lat','lng_orig','lat_orig','speed','status'])\r\n",
        "\r\n",
        "    oldmmsi=0\r\n",
        "    sumrec=0\r\n",
        "    start=0\r\n",
        "    lat_orig=0\r\n",
        "    lng_orig=0\r\n",
        "    oldlng=0\r\n",
        "    oldlat=0\r\n",
        "    start = None\r\n",
        "    i=0\r\n",
        "    status=0 ###0-nuovo 1-arrivato 2-partito\r\n",
        "    end = None\r\n",
        "    speed = None\r\n",
        "\r\n",
        "    present = 0 # already present in the port, only for first occurrence of the ship 0: false, 1: true\r\n",
        "\r\n",
        "    start_time = datetime.now()\r\n",
        "\r\n",
        "    for item in df_rotte.itertuples():\r\n",
        "        try:\r\n",
        "            #item = df_rotte.iloc[i]\r\n",
        "            mmsi,time_voyage,lng,lat,speed = item.mmsi,item.timestamp,float(item.lng),float(item.lat),int(item.speed)\r\n",
        "\r\n",
        "            if(mmsi!=oldmmsi):\r\n",
        "                if (status==1):#si riferisce alla old ship\r\n",
        "                    df_arrival=df_arrival.append({'row':i,'mmsi':oldmmsi,'arrival':start,\r\n",
        "                           'departure':end,'lng':oldlng,'lat':oldlat,'lng_orig':lng_orig,'lat_orig':lat_orig,\r\n",
        "                            'speed':speed,'status':status},ignore_index=True)\r\n",
        "                start,status,lng_orig,lat_orig,oldlng,oldlat,oldmmsi=None,0,0,0,0,0,mmsi\r\n",
        "                oldmmsi = mmsi\r\n",
        "    \r\n",
        "            if(speed==0):\r\n",
        "                if (status==0):\r\n",
        "                    start,oldlng,oldlat,present = time_voyage,lng,lat,1\r\n",
        "                \r\n",
        "                #To calculate distance in meters\r\n",
        "                if(status<2):\r\n",
        "                    loc1=(lat,lng)\r\n",
        "                    loc2=(oldlat,oldlng)\r\n",
        "            \r\n",
        "                    distance = hs.haversine(loc1,loc2,unit=Unit.METERS)\r\n",
        "            \r\n",
        "                    if(distance > 3000.0):\r\n",
        "                        #print(distance)\r\n",
        "                        #if ((abs(oldlng-lng)+abs(oldlat-lat))>0.3):\r\n",
        "                        if(present == 1):\r\n",
        "                            status = 0\r\n",
        "                        df_arrival=df_arrival.append({'row':i,'mmsi':oldmmsi,'arrival':start,\r\n",
        "                           'departure':end,'lng':oldlng,'lat':oldlat,\r\n",
        "                                       'lng_orig':lng_orig,'lat_orig':lat_orig,'speed':speed,'status':status},ignore_index=True)\r\n",
        "                        start,lng_orig,lat_orig,oldlng,oldlat,present = time_voyage,oldlng,oldlat,lng,lat,0\r\n",
        "                    \r\n",
        "                if(status==2):\r\n",
        "                    start,lng_orig,lat_orig,oldlng,oldlat = time_voyage,oldlng,oldlat,lng,lat\r\n",
        "                    \r\n",
        "                end=time_voyage\r\n",
        "                #after first occurrence of the ship,status = arrived\r\n",
        "                status=1\r\n",
        "                \r\n",
        "            if (speed>0):\r\n",
        "                if(status==1):\r\n",
        "\r\n",
        "                    loc1=(lat,lng)\r\n",
        "                    loc2=(oldlat,oldlng)\r\n",
        "                    distance = hs.haversine(loc1,loc2,unit=Unit.METERS)\r\n",
        "                    if(distance > 3000.0):\r\n",
        "                        status = 2\r\n",
        "                        if(present == 1):\r\n",
        "                            status = 0\r\n",
        "                        df_arrival=df_arrival.append({'row':i,'mmsi':oldmmsi,'arrival':start,\r\n",
        "                           'departure':end,'lng':oldlng,'lat':oldlat,\r\n",
        "                            'lng_orig':lng_orig,'lat_orig':lat_orig,'speed':speed,'status':status},ignore_index=True)\r\n",
        "                        \r\n",
        "                        status,lng_orig,lat_orig,present = 2,oldlng,oldlat,0\r\n",
        "                if(status==0):\r\n",
        "                    status=2\r\n",
        "                   \r\n",
        "            #stampa di controllo\r\n",
        "            if(i%1000000 == 0):\r\n",
        "               print(i)\r\n",
        "        except Exception as e:\r\n",
        "            print(i,\" \")\r\n",
        "            print(e)\r\n",
        "        i+=1\r\n",
        "    #end for\r\n",
        "    \r\n",
        "    #scrive l'ultimo record\r\n",
        "    if(status==1):\r\n",
        "            df_arrival=df_arrival.append({'row':i,'mmsi':oldmmsi,'arrival':start,\r\n",
        "                        'departure':end,'lng':oldlng,'lat':oldlat,\r\n",
        "                        'lng_orig':lng_orig,'lat_orig':lat_orig,'speed':speed,'status':status},ignore_index=True)\r\n",
        "\r\n",
        " \r\n",
        "    end_time = datetime.now()\r\n",
        "    print('Duration: {}'.format(end_time - start_time))\r\n",
        "    print(\"df_arrival len after: \",len(df_arrival))\r\n",
        "    \r\n",
        "    return(df_arrival)"
      ],
      "outputs": [],
      "execution_count": 20,
      "metadata": {
        "jupyter": {
          "source_hidden": false,
          "outputs_hidden": false
        },
        "nteract": {
          "transient": {
            "deleting": false
          }
        },
        "gather": {
          "logged": 1658908897551
        }
      },
      "id": "97a38570-8120-4a4c-a823-a48dc469deaa"
    },
    {
      "cell_type": "code",
      "source": [
        "df_rotte = rotte_dataset_simplified[['mmsi','stamp','timestamp','lng','lat','speed']]\n",
        "df_rotte = df_rotte.sort_values(by=['mmsi','stamp'],ascending=[True,True])\n",
        "df_rotte = df_rotte.reset_index()"
      ],
      "outputs": [],
      "execution_count": 21,
      "metadata": {
        "gather": {
          "logged": 1658908980135
        }
      },
      "id": "f9d2e697-52fb-43d6-b064-60dea5a5efdd"
    },
    {
      "cell_type": "code",
      "source": [
        "df_arrival= arrival_elaboration(df_rotte)"
      ],
      "outputs": [
        {
          "output_type": "stream",
          "name": "stdout",
          "text": "df_rotte len before:  33334193\n0\n1000000\n2000000\n3000000\n4000000\n5000000\n6000000\n7000000\n8000000\n9000000\n10000000\n11000000\n12000000\n13000000\n14000000\n15000000\n16000000\n17000000\n18000000\n19000000\n20000000\n21000000\n22000000\n23000000\n24000000\n25000000\n26000000\n27000000\n28000000\n29000000\n30000000\n31000000\n32000000\n33000000\nDuration: 0:17:13.004107\ndf_arrival len after:  82808\n"
        }
      ],
      "execution_count": 22,
      "metadata": {
        "gather": {
          "logged": 1658910050369
        }
      },
      "id": "33e77b83-6e01-47a4-a375-827ccbf3600f"
    },
    {
      "cell_type": "code",
      "source": [
        "ita_ports = world_porti[world_porti['Country']=='ITA']\n",
        "#print(len(ita_ports))\n",
        "foreign_ports = world_porti[world_porti['Country'] !='ITA']\n",
        "#print(len(foreign_ports))\n",
        "world_porti = ita_ports.append(foreign_ports,ignore_index=True)\n",
        "print(len(world_porti))\n",
        "world_porti.reset_index()\n"
      ],
      "outputs": [
        {
          "output_type": "stream",
          "name": "stdout",
          "text": "13763\n"
        },
        {
          "output_type": "execute_result",
          "execution_count": 30,
          "data": {
            "text/plain": "       index Country           Name   Latitude   Longitude UNLocode\n0          0     ITA         Fusina  45.422091   12.256319    ITFSA\n1          1     ITA         Genova  44.399822    8.924361    ITGOA\n2          2     ITA       Marghera  45.465793   12.233153    ITPMA\n3          3     ITA        Rinella  38.546404   14.828765    ITRIN\n4          4     ITA  Santa Panagia  37.114285   15.251981    ITSPA\n...      ...     ...            ...        ...         ...      ...\n13758  13758     TON     Nuku'alofa -21.136978 -175.181200     None\n13759  13759     TON         Pangai -19.803124 -174.352489     None\n13760  13760     TKL          Atafu  -8.542822 -172.517323     None\n13761  13761     TKL        Fakaofo  -9.385887 -171.248517     None\n13762  13762     TKL       Nukunonu  -9.200938 -171.849339     None\n\n[13763 rows x 6 columns]",
            "text/html": "<div>\n<style scoped>\n    .dataframe tbody tr th:only-of-type {\n        vertical-align: middle;\n    }\n\n    .dataframe tbody tr th {\n        vertical-align: top;\n    }\n\n    .dataframe thead th {\n        text-align: right;\n    }\n</style>\n<table border=\"1\" class=\"dataframe\">\n  <thead>\n    <tr style=\"text-align: right;\">\n      <th></th>\n      <th>index</th>\n      <th>Country</th>\n      <th>Name</th>\n      <th>Latitude</th>\n      <th>Longitude</th>\n      <th>UNLocode</th>\n    </tr>\n  </thead>\n  <tbody>\n    <tr>\n      <th>0</th>\n      <td>0</td>\n      <td>ITA</td>\n      <td>Fusina</td>\n      <td>45.422091</td>\n      <td>12.256319</td>\n      <td>ITFSA</td>\n    </tr>\n    <tr>\n      <th>1</th>\n      <td>1</td>\n      <td>ITA</td>\n      <td>Genova</td>\n      <td>44.399822</td>\n      <td>8.924361</td>\n      <td>ITGOA</td>\n    </tr>\n    <tr>\n      <th>2</th>\n      <td>2</td>\n      <td>ITA</td>\n      <td>Marghera</td>\n      <td>45.465793</td>\n      <td>12.233153</td>\n      <td>ITPMA</td>\n    </tr>\n    <tr>\n      <th>3</th>\n      <td>3</td>\n      <td>ITA</td>\n      <td>Rinella</td>\n      <td>38.546404</td>\n      <td>14.828765</td>\n      <td>ITRIN</td>\n    </tr>\n    <tr>\n      <th>4</th>\n      <td>4</td>\n      <td>ITA</td>\n      <td>Santa Panagia</td>\n      <td>37.114285</td>\n      <td>15.251981</td>\n      <td>ITSPA</td>\n    </tr>\n    <tr>\n      <th>...</th>\n      <td>...</td>\n      <td>...</td>\n      <td>...</td>\n      <td>...</td>\n      <td>...</td>\n      <td>...</td>\n    </tr>\n    <tr>\n      <th>13758</th>\n      <td>13758</td>\n      <td>TON</td>\n      <td>Nuku'alofa</td>\n      <td>-21.136978</td>\n      <td>-175.181200</td>\n      <td>None</td>\n    </tr>\n    <tr>\n      <th>13759</th>\n      <td>13759</td>\n      <td>TON</td>\n      <td>Pangai</td>\n      <td>-19.803124</td>\n      <td>-174.352489</td>\n      <td>None</td>\n    </tr>\n    <tr>\n      <th>13760</th>\n      <td>13760</td>\n      <td>TKL</td>\n      <td>Atafu</td>\n      <td>-8.542822</td>\n      <td>-172.517323</td>\n      <td>None</td>\n    </tr>\n    <tr>\n      <th>13761</th>\n      <td>13761</td>\n      <td>TKL</td>\n      <td>Fakaofo</td>\n      <td>-9.385887</td>\n      <td>-171.248517</td>\n      <td>None</td>\n    </tr>\n    <tr>\n      <th>13762</th>\n      <td>13762</td>\n      <td>TKL</td>\n      <td>Nukunonu</td>\n      <td>-9.200938</td>\n      <td>-171.849339</td>\n      <td>None</td>\n    </tr>\n  </tbody>\n</table>\n<p>13763 rows × 6 columns</p>\n</div>"
          },
          "metadata": {}
        }
      ],
      "execution_count": 30,
      "metadata": {
        "gather": {
          "logged": 1658910893605
        }
      },
      "id": "fea59972-87a7-4e7c-80d9-676dd4b2af5c"
    },
    {
      "cell_type": "code",
      "source": [
        "def port_assign(df_rotte,df_porti):\n",
        "    \n",
        "    n=len(df_rotte)\n",
        "    df = df_rotte\n",
        "    df[\"port\"] = [\"null\"]*n\n",
        "    df[\"port_orig\"] = [\"null\"]*n\n",
        "    df[\"UNLocode\"] = [\"NA\"]*n \n",
        "    df[\"UNLocode_orig\"] = [\"NA\"]*n\n",
        "\n",
        "    start_time = datetime.now()\n",
        "    \n",
        "    i=0\n",
        "    for rotta in df_rotte.itertuples():\n",
        "        found_orig,found=0,0\n",
        "        #departure port position\n",
        "        loc_orig=(float(rotta.lat_orig),float(rotta.lng_orig))\n",
        "        #arrival port position\n",
        "        loc=(float(rotta.lat),float(rotta.lng))\n",
        "        \n",
        "        for porto in df_porti.itertuples():            \n",
        "            loc_port=(float(porto.Latitude),float(porto.Longitude))            \n",
        "            distance1 = hs.haversine(loc,loc_port,unit=Unit.METERS)\n",
        "            if(distance1 < 5000.0):\n",
        "                df.loc[i,'port']=porto.Name\n",
        "                df.loc[i,'UNLocode'] = porto.UNLocode\n",
        "                found=1\n",
        "                break\n",
        "        if (found==0):\n",
        "            df.loc[i,'port']='Not found'\n",
        "        \n",
        "        for porto in df_porti.itertuples():             \n",
        "            loc_port=(float(porto.Latitude),float(porto.Longitude))\n",
        "            distance2 = hs.haversine(loc_orig,loc_port,unit=Unit.METERS)\n",
        "            if(distance2 < 5000.0):\n",
        "                df.loc[i,'port_orig']=porto.Name\n",
        "                df.loc[i,'UNLocode_orig'] = porto.UNLocode\n",
        "                found_orig=1\n",
        "                break    \n",
        "\n",
        "        if (found_orig==0):\n",
        "            df.loc[i,'port_orig']='Not found'\n",
        "            \n",
        "        #stampa di controllo\n",
        "        if(i%10000 == 0):\n",
        "               print(i)\n",
        "        i+=1\n",
        "    \n",
        "    end_time = datetime.now()\n",
        "    print('Duration: {}'.format(end_time - start_time))\n",
        "    print(\"df_arrival len after: \",len(df))\n",
        "        \n",
        "    return(df)"
      ],
      "outputs": [],
      "execution_count": 31,
      "metadata": {
        "gather": {
          "logged": 1658910902297
        }
      },
      "id": "951222e3-61df-464c-b0b7-3e571a0884de"
    },
    {
      "cell_type": "code",
      "source": [
        "df_rotte_arrivi_porti = port_assign(df_arrival,world_porti)"
      ],
      "outputs": [
        {
          "output_type": "stream",
          "name": "stdout",
          "text": "0\n10000\n20000\n30000\n40000\n50000\n60000\n70000\n80000\nDuration: 0:36:28.003272\ndf_arrival len after:  82808\n"
        }
      ],
      "execution_count": 32,
      "metadata": {
        "gather": {
          "logged": 1658913098725
        }
      },
      "id": "2393f525-f8c7-4789-bb57-b9cf695013eb"
    },
    {
      "cell_type": "code",
      "source": [
        "#export all records 1st and 2nd step\r\n",
        "df_rotte_arrivi_porti.to_csv(\"df_rotte_arrivi_porti_set2021_after_portAssign.csv\",index=False,sep=',')\r\n",
        "#df_rotte_arrivi_porti.head()"
      ],
      "outputs": [],
      "execution_count": 34,
      "metadata": {
        "jupyter": {
          "source_hidden": false,
          "outputs_hidden": false
        },
        "nteract": {
          "transient": {
            "deleting": false
          }
        },
        "gather": {
          "logged": 1658917178760
        }
      },
      "id": "a5d7e3ac-95ee-4eef-8839-78235edf8055"
    },
    {
      "cell_type": "code",
      "source": [
        "df_rotte_arrivi_porti_pre = pd.read_csv(\"df_rotte_arrivi_porti_set2021_after_portAssign.csv\", sep=',')"
      ],
      "outputs": [],
      "execution_count": 59,
      "metadata": {
        "jupyter": {
          "source_hidden": false,
          "outputs_hidden": false
        },
        "nteract": {
          "transient": {
            "deleting": false
          }
        },
        "gather": {
          "logged": 1658919599157
        }
      },
      "id": "d5fb9136-461a-4a6e-bacd-e2e9b0101cf5"
    },
    {
      "cell_type": "markdown",
      "source": [
        "ARRIVI PARTENZE"
      ],
      "metadata": {
        "nteract": {
          "transient": {
            "deleting": false
          }
        }
      },
      "id": "8995ee5a-db61-40cc-a1e5-50ffa3936f7e"
    },
    {
      "cell_type": "code",
      "source": [
        "df_rotte_arrivi_porti[[\"arrival\", \"departure\"]] = df_rotte_arrivi_porti[[\"arrival\", \"departure\"]].apply(pd.to_datetime)"
      ],
      "outputs": [],
      "execution_count": 60,
      "metadata": {
        "jupyter": {
          "source_hidden": false,
          "outputs_hidden": false
        },
        "nteract": {
          "transient": {
            "deleting": false
          }
        },
        "gather": {
          "logged": 1658919600287
        }
      },
      "id": "9e448aa4-cecf-4c19-85f9-fadb2dfe3e8e"
    },
    {
      "cell_type": "code",
      "source": [
        "def calc_tratte(df_arrivi):\r\n",
        "\r\n",
        "    dim=len(df_arrivi)\r\n",
        "    print(\"dim arrivals: \",dim)\r\n",
        "\r\n",
        "    df_arrivi[[\"arrival\", \"departure\"]] = df_arrivi[[\"arrival\", \"departure\"]].apply(pd.to_datetime)\r\n",
        "\r\n",
        "\r\n",
        "    df_tratte = pd.DataFrame(columns = ['mmsi','partenza','porto_orig','cod_orig','arrivo','porto_dest','cod_dest','status'])\r\n",
        "\r\n",
        "    prevmmsi=0\r\n",
        "\r\n",
        "    i=0\r\n",
        "    status=0 ###\r\n",
        "    prevpartenza=\"\"\r\n",
        "    prevport=\"\"\r\n",
        "    prevcode=\"\"\r\n",
        "\r\n",
        "    start_time = datetime.now()\r\n",
        "\r\n",
        "    for current in df_arrivi.itertuples():\r\n",
        "        i=i+1\r\n",
        "\r\n",
        "        if (current.mmsi!=prevmmsi):\r\n",
        "            if ((prevpartenza!=\"\") & (status == 2)):                \r\n",
        "                df_tratte=df_tratte.append({'mmsi':prevmmsi,'partenza':prevpartenza,\r\n",
        "                    'porto_orig':prevport,'cod_orig':prevcode,'arrivo':\"\",\r\n",
        "                    'porto_dest':\"\",'cod_dest':\"\",'status':status},ignore_index=True)\r\n",
        "            prevpartenza=\"\"\r\n",
        "            prevport=\"\"\r\n",
        "            prevcode=\"\"\r\n",
        "            status = current.status\r\n",
        "\r\n",
        "        time_approdo=(current.departure-current.arrival).seconds\r\n",
        "        if (time_approdo>=900 and current.port!=\"Not found\"):\r\n",
        "            #print(\"rec \",i,\" : \",current)\r\n",
        "            if(current.status != 0):\r\n",
        "\r\n",
        "                df_tratte=df_tratte.append({'mmsi':current.mmsi,'partenza':prevpartenza,\r\n",
        "                    'porto_orig':prevport,'cod_orig':prevcode,'arrivo':current.arrival,\r\n",
        "                    'porto_dest':current.port,'cod_dest':current.UNLocode,'status':current.status},ignore_index=True)\r\n",
        "\r\n",
        "            prevmmsi=current.mmsi\r\n",
        "            prevpartenza=current.departure\r\n",
        "            prevport=current.port\r\n",
        "            prevcode=current.UNLocode\r\n",
        "            status = current.status\r\n",
        "\r\n",
        "        \r\n",
        "        if(i%10000 == 0):\r\n",
        "               print(i)\r\n",
        "\r\n",
        "    if ((prevpartenza!=\"\") & (status == 2)):\r\n",
        "        \r\n",
        "        df_tratte=df_tratte.append({'mmsi':prevmmsi,'partenza':prevpartenza,\r\n",
        "            'porto_orig':prevport,'cod_orig':prevcode,'arrivo':\"\",\r\n",
        "            'porto_dest':\"\",'cod_dest':\"\",'status':status},ignore_index=True)\r\n",
        "\r\n",
        "\r\n",
        "    end_time = datetime.now()\r\n",
        "    print('Duration: {}'.format(end_time - start_time))\r\n",
        "    print(\"df_arrival len after: \",len(df_tratte))\r\n",
        "    \r\n",
        "    return(df_tratte)"
      ],
      "outputs": [],
      "execution_count": 61,
      "metadata": {
        "jupyter": {
          "source_hidden": false,
          "outputs_hidden": false
        },
        "nteract": {
          "transient": {
            "deleting": false
          }
        },
        "gather": {
          "logged": 1658919604917
        }
      },
      "id": "69cc53d2-cf05-49cc-bf4d-cbde603770ef"
    },
    {
      "cell_type": "code",
      "source": [
        "df_rotte_arrivi_porti=calc_tratte(df_rotte_arrivi_porti)"
      ],
      "outputs": [
        {
          "output_type": "stream",
          "name": "stdout",
          "text": "dim arrivals:  82808\n10000\n20000\n30000\n40000\n50000\n60000\n70000\n80000\nDuration: 0:04:27.719430\ndf_arrival len after:  39451\n"
        }
      ],
      "execution_count": 62,
      "metadata": {
        "jupyter": {
          "source_hidden": false,
          "outputs_hidden": false
        },
        "nteract": {
          "transient": {
            "deleting": false
          }
        },
        "gather": {
          "logged": 1658919877334
        }
      },
      "id": "75950608-5f86-4098-a989-9af271e03db8"
    },
    {
      "cell_type": "markdown",
      "source": [
        "ADD INFORMATION TO THE DATASET"
      ],
      "metadata": {},
      "id": "763c6d90-dd94-44aa-ab6c-7dd15eb78686"
    },
    {
      "cell_type": "code",
      "source": [
        "vessels_mmsi_imo_dict = pd.Series(ais_dataset.imo.values,index=ais_dataset.mmsi).to_dict()\n",
        "#vessels_mmsi_callsign_dict = pd.Series(ais_dataset.callsign.values,index=ais_dataset.mmsi).to_dict()\n",
        "vessels_mmsi_shiptype_desc_dict = pd.Series(ais_dataset.shiptype_desc.values,index=ais_dataset.mmsi).to_dict()\n",
        "vessels_mmsi_type_summary_dict = pd.Series(ais_dataset.type_summary.values,index=ais_dataset.mmsi).to_dict()\n",
        "\n",
        "vessels_mmsi_imo_clean_dict = {k: vessels_mmsi_imo_dict[k] for k in vessels_mmsi_imo_dict if not pd.isna(vessels_mmsi_imo_dict[k])}\n",
        "#vessels_mmsi_callsign_clean_dict = {k: vessels_mmsi_callsign_dict[k] for k in vessels_mmsi_callsign_dict if not pd.isna(vessels_mmsi_callsign_dict[k])}\n",
        "vessels_mmsi_shiptype_desc_clean_dict = {k: vessels_mmsi_shiptype_desc_dict[k] for k in vessels_mmsi_shiptype_desc_dict if not pd.isna(vessels_mmsi_shiptype_desc_dict[k])}\n",
        "vessels_mmsi_type_summary_clean_dict = {k: vessels_mmsi_type_summary_dict[k] for k in vessels_mmsi_type_summary_dict if not pd.isna(vessels_mmsi_type_summary_dict[k])}"
      ],
      "outputs": [],
      "execution_count": 63,
      "metadata": {
        "gather": {
          "logged": 1658919978235
        }
      },
      "id": "6da36f46-6cc1-4a9e-8773-40985dacef01"
    },
    {
      "cell_type": "code",
      "source": [
        "df_rotte_arrivi_porti[\"imo\"] = df_rotte_arrivi_porti[\"mmsi\"].astype(int)\n",
        "df_rotte_arrivi_porti['imo'].replace(vessels_mmsi_imo_clean_dict ,inplace=True)\n",
        "\n",
        "#df_rotte_arrivi_porti[\"callsign\"] = df_rotte_arrivi_porti[\"mmsi\"].astype(int)\n",
        "#df_rotte_arrivi_porti['callsign'].replace(vessels_mmsi_callsign_clean_dict ,inplace=True)\n",
        "\n",
        "df_rotte_arrivi_porti['shiptype_desc'] = df_rotte_arrivi_porti[\"mmsi\"].astype(int)\n",
        "df_rotte_arrivi_porti['shiptype_desc'].replace(vessels_mmsi_shiptype_desc_clean_dict ,inplace=True)\n",
        "\n",
        "df_rotte_arrivi_porti['type_summary'] = df_rotte_arrivi_porti[\"mmsi\"].astype(int)\n",
        "df_rotte_arrivi_porti['type_summary'].replace(vessels_mmsi_type_summary_clean_dict ,inplace=True)"
      ],
      "outputs": [],
      "execution_count": 64,
      "metadata": {
        "gather": {
          "logged": 1658919983733
        }
      },
      "id": "dac6064d-96af-4643-9a73-022b35537169"
    },
    {
      "cell_type": "code",
      "source": [
        "#export all records\n",
        "df_rotte_arrivi_porti.to_csv(\"df_rotte_arrivi_porti_set2021_final.csv\",index=False,sep=',')\n",
        "#df_rotte_arrivi_porti"
      ],
      "outputs": [],
      "execution_count": 66,
      "metadata": {
        "gather": {
          "logged": 1658919992677
        }
      },
      "id": "4e41a5aa-e15d-41e8-b525-9cc9af5e8dab"
    },
    {
      "cell_type": "code",
      "source": [
        "df_rotte_arrivi_porti[df_rotte_arrivi_porti['mmsi']==209156000  ]"
      ],
      "outputs": [
        {
          "output_type": "execute_result",
          "execution_count": 68,
          "data": {
            "text/plain": "            mmsi             partenza porto_orig cod_orig  \\\n332  209156000.0  2021-10-04 03:29:39   Cagliari    ITCAG   \n333  209156000.0  2021-10-13 09:19:12   Cagliari    ITCAG   \n334  209156000.0  2021-10-29 09:26:52  Cartagena    ESCAR   \n\n                  arrivo porto_dest cod_dest status      imo shiptype_desc  \\\n332  2021-10-04 04:39:22   Cagliari    ITCAG      2  9287340         Cargo   \n333  2021-10-23 02:23:41  Cartagena    ESCAR      2  9287340         Cargo   \n334                                               2  9287340         Cargo   \n\n    type_summary  \n332        Cargo  \n333        Cargo  \n334        Cargo  ",
            "text/html": "<div>\n<style scoped>\n    .dataframe tbody tr th:only-of-type {\n        vertical-align: middle;\n    }\n\n    .dataframe tbody tr th {\n        vertical-align: top;\n    }\n\n    .dataframe thead th {\n        text-align: right;\n    }\n</style>\n<table border=\"1\" class=\"dataframe\">\n  <thead>\n    <tr style=\"text-align: right;\">\n      <th></th>\n      <th>mmsi</th>\n      <th>partenza</th>\n      <th>porto_orig</th>\n      <th>cod_orig</th>\n      <th>arrivo</th>\n      <th>porto_dest</th>\n      <th>cod_dest</th>\n      <th>status</th>\n      <th>imo</th>\n      <th>shiptype_desc</th>\n      <th>type_summary</th>\n    </tr>\n  </thead>\n  <tbody>\n    <tr>\n      <th>332</th>\n      <td>209156000.0</td>\n      <td>2021-10-04 03:29:39</td>\n      <td>Cagliari</td>\n      <td>ITCAG</td>\n      <td>2021-10-04 04:39:22</td>\n      <td>Cagliari</td>\n      <td>ITCAG</td>\n      <td>2</td>\n      <td>9287340</td>\n      <td>Cargo</td>\n      <td>Cargo</td>\n    </tr>\n    <tr>\n      <th>333</th>\n      <td>209156000.0</td>\n      <td>2021-10-13 09:19:12</td>\n      <td>Cagliari</td>\n      <td>ITCAG</td>\n      <td>2021-10-23 02:23:41</td>\n      <td>Cartagena</td>\n      <td>ESCAR</td>\n      <td>2</td>\n      <td>9287340</td>\n      <td>Cargo</td>\n      <td>Cargo</td>\n    </tr>\n    <tr>\n      <th>334</th>\n      <td>209156000.0</td>\n      <td>2021-10-29 09:26:52</td>\n      <td>Cartagena</td>\n      <td>ESCAR</td>\n      <td></td>\n      <td></td>\n      <td></td>\n      <td>2</td>\n      <td>9287340</td>\n      <td>Cargo</td>\n      <td>Cargo</td>\n    </tr>\n  </tbody>\n</table>\n</div>"
          },
          "metadata": {}
        }
      ],
      "execution_count": 68,
      "metadata": {
        "jupyter": {
          "source_hidden": false,
          "outputs_hidden": false
        },
        "nteract": {
          "transient": {
            "deleting": false
          }
        },
        "gather": {
          "logged": 1658920062250
        }
      },
      "id": "0ee28fd3-06c1-4bd4-845a-3bee9b6f4111"
    },
    {
      "cell_type": "markdown",
      "source": [
        "COMPUTE STATISTICS OF ARRIVALS IN THE PORTS"
      ],
      "metadata": {},
      "id": "689b4176-8654-425e-8fd3-ab7816947087"
    },
    {
      "cell_type": "code",
      "source": [
        "#df_rotte_arrivi_porti = pd.read_csv(\"df_rotte_arrivi_porti_set2021_final.csv\", sep=',')\r\n",
        "df_rotte_arrivi_porti.head()"
      ],
      "outputs": [
        {
          "output_type": "execute_result",
          "execution_count": 69,
          "data": {
            "text/plain": "        mmsi             partenza    porto_orig cod_orig               arrivo  \\\n0  1193046.0                                              2021-09-01 01:29:26   \n1  1193046.0  2021-09-01 01:50:28  Porto Torres    ITPTO  2021-09-01 02:26:27   \n2  1193046.0  2021-09-01 02:41:28  Porto Torres    ITPTO  2021-09-01 04:23:29   \n3  1193046.0  2021-09-01 04:44:31  Porto Torres    ITPTO  2021-09-01 05:35:31   \n4  1193046.0  2021-09-01 20:20:53  Porto Torres    ITPTO  2021-09-01 20:38:53   \n\n     porto_dest cod_dest status      imo shiptype_desc type_summary  \n0  Porto Torres    ITPTO      1  7512507           Tug          Tug  \n1  Porto Torres    ITPTO      1  7512507           Tug          Tug  \n2  Porto Torres    ITPTO      1  7512507           Tug          Tug  \n3  Porto Torres    ITPTO      1  7512507           Tug          Tug  \n4  Porto Torres    ITPTO      2  7512507           Tug          Tug  ",
            "text/html": "<div>\n<style scoped>\n    .dataframe tbody tr th:only-of-type {\n        vertical-align: middle;\n    }\n\n    .dataframe tbody tr th {\n        vertical-align: top;\n    }\n\n    .dataframe thead th {\n        text-align: right;\n    }\n</style>\n<table border=\"1\" class=\"dataframe\">\n  <thead>\n    <tr style=\"text-align: right;\">\n      <th></th>\n      <th>mmsi</th>\n      <th>partenza</th>\n      <th>porto_orig</th>\n      <th>cod_orig</th>\n      <th>arrivo</th>\n      <th>porto_dest</th>\n      <th>cod_dest</th>\n      <th>status</th>\n      <th>imo</th>\n      <th>shiptype_desc</th>\n      <th>type_summary</th>\n    </tr>\n  </thead>\n  <tbody>\n    <tr>\n      <th>0</th>\n      <td>1193046.0</td>\n      <td></td>\n      <td></td>\n      <td></td>\n      <td>2021-09-01 01:29:26</td>\n      <td>Porto Torres</td>\n      <td>ITPTO</td>\n      <td>1</td>\n      <td>7512507</td>\n      <td>Tug</td>\n      <td>Tug</td>\n    </tr>\n    <tr>\n      <th>1</th>\n      <td>1193046.0</td>\n      <td>2021-09-01 01:50:28</td>\n      <td>Porto Torres</td>\n      <td>ITPTO</td>\n      <td>2021-09-01 02:26:27</td>\n      <td>Porto Torres</td>\n      <td>ITPTO</td>\n      <td>1</td>\n      <td>7512507</td>\n      <td>Tug</td>\n      <td>Tug</td>\n    </tr>\n    <tr>\n      <th>2</th>\n      <td>1193046.0</td>\n      <td>2021-09-01 02:41:28</td>\n      <td>Porto Torres</td>\n      <td>ITPTO</td>\n      <td>2021-09-01 04:23:29</td>\n      <td>Porto Torres</td>\n      <td>ITPTO</td>\n      <td>1</td>\n      <td>7512507</td>\n      <td>Tug</td>\n      <td>Tug</td>\n    </tr>\n    <tr>\n      <th>3</th>\n      <td>1193046.0</td>\n      <td>2021-09-01 04:44:31</td>\n      <td>Porto Torres</td>\n      <td>ITPTO</td>\n      <td>2021-09-01 05:35:31</td>\n      <td>Porto Torres</td>\n      <td>ITPTO</td>\n      <td>1</td>\n      <td>7512507</td>\n      <td>Tug</td>\n      <td>Tug</td>\n    </tr>\n    <tr>\n      <th>4</th>\n      <td>1193046.0</td>\n      <td>2021-09-01 20:20:53</td>\n      <td>Porto Torres</td>\n      <td>ITPTO</td>\n      <td>2021-09-01 20:38:53</td>\n      <td>Porto Torres</td>\n      <td>ITPTO</td>\n      <td>2</td>\n      <td>7512507</td>\n      <td>Tug</td>\n      <td>Tug</td>\n    </tr>\n  </tbody>\n</table>\n</div>"
          },
          "metadata": {}
        }
      ],
      "execution_count": 69,
      "metadata": {
        "jupyter": {
          "source_hidden": false,
          "outputs_hidden": false
        },
        "nteract": {
          "transient": {
            "deleting": false
          }
        },
        "gather": {
          "logged": 1658920085349
        }
      },
      "id": "9d88a664-a4b4-4ab2-8d52-7ae52e57636e"
    },
    {
      "cell_type": "code",
      "source": [
        "df_set = df_rotte_arrivi_porti[pd.DatetimeIndex(df_rotte_arrivi_porti['partenza']).month == 9]\r\n",
        "\r\n",
        "df_ott = df_rotte_arrivi_porti[pd.DatetimeIndex(df_rotte_arrivi_porti['partenza']).month == 10]"
      ],
      "outputs": [],
      "execution_count": 92,
      "metadata": {
        "jupyter": {
          "source_hidden": false,
          "outputs_hidden": false
        },
        "nteract": {
          "transient": {
            "deleting": false
          }
        },
        "gather": {
          "logged": 1658924603496
        }
      },
      "id": "63ffc55a-21e1-4eb6-85f9-da49aa19db79"
    },
    {
      "cell_type": "code",
      "source": [
        "df = df_set[df_set['cod_orig'].str.startswith('IT', na=False)].groupby(['cod_orig','porto_orig']).size().reset_index(name='Size')\r\n",
        "df.to_csv('rotte_arrivi_porti_set2021_tot_port_orig.csv',index=False,sep=',')\r\n",
        "\r\n",
        "df = df_ott[df_ott['cod_orig'].str.startswith('IT', na=False)].groupby(['cod_orig','porto_orig']).size().reset_index(name='Size')\r\n",
        "df.to_csv('rotte_arrivi_porti_ott2021_tot_port_orig.csv',index=False,sep=',')"
      ],
      "outputs": [],
      "execution_count": 93,
      "metadata": {
        "jupyter": {
          "source_hidden": false,
          "outputs_hidden": false
        },
        "nteract": {
          "transient": {
            "deleting": false
          }
        },
        "gather": {
          "logged": 1658924605557
        }
      },
      "id": "34bcdba9-703a-438d-bf30-30374b11551c"
    },
    {
      "cell_type": "code",
      "source": [
        "df = df_set[df_set['cod_dest'].str.startswith('IT', na=False)].groupby(['cod_dest','porto_dest']).size().reset_index(name='Size')\r\n",
        "#df = df.groupby(['cod_dest','porto_dest']).size().reset_index(name='Size')\r\n",
        "df.to_csv('rotte_arrivi_porti_set2021_tot_port_dest.csv',index=False,sep=',')\r\n",
        "\r\n",
        "df = df_ott[df_ott['cod_dest'].str.startswith('IT', na=False)].groupby(['cod_dest','porto_dest']).size().reset_index(name='Size')\r\n",
        "df.to_csv('rotte_arrivi_porti_ott2021_tot_port_dest.csv',index=False,sep=',')"
      ],
      "outputs": [],
      "execution_count": 94,
      "metadata": {
        "jupyter": {
          "source_hidden": false,
          "outputs_hidden": false
        },
        "nteract": {
          "transient": {
            "deleting": false
          }
        },
        "gather": {
          "logged": 1658924608844
        }
      },
      "id": "591f62a8-ff07-4718-aead-20bc011a73b7"
    }
  ],
  "metadata": {
    "kernelspec": {
      "name": "python38-azureml",
      "language": "python",
      "display_name": "Python 3.8 - AzureML"
    },
    "language_info": {
      "name": "python",
      "version": "3.8.5",
      "mimetype": "text/x-python",
      "codemirror_mode": {
        "name": "ipython",
        "version": 3
      },
      "pygments_lexer": "ipython3",
      "nbconvert_exporter": "python",
      "file_extension": ".py"
    },
    "kernel_info": {
      "name": "python38-azureml"
    },
    "nteract": {
      "version": "nteract-front-end@1.0.0"
    },
    "microsoft": {
      "host": {
        "AzureML": {
          "notebookHasBeenCompleted": true
        }
      }
    }
  },
  "nbformat": 4,
  "nbformat_minor": 5
}