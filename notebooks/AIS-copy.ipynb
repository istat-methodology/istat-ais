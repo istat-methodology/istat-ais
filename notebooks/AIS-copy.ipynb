{
  "cells": [
    {
      "cell_type": "code",
      "source": [
        "import pandas as pd\n",
        "import numpy as np\n",
        "import configparser"
      ],
      "outputs": [],
      "execution_count": 1,
      "metadata": {
        "gather": {
          "logged": 1658307159949
        }
      },
      "id": "2aaa6578-ed9c-49f5-9f19-04f5988d633c"
    },
    {
      "cell_type": "code",
      "source": [
        "!pip install haversine"
      ],
      "outputs": [
        {
          "output_type": "stream",
          "name": "stdout",
          "text": "Collecting haversine\n  Downloading haversine-2.6.0-py2.py3-none-any.whl (6.8 kB)\nInstalling collected packages: haversine\nSuccessfully installed haversine-2.6.0\n"
        }
      ],
      "execution_count": 2,
      "metadata": {},
      "id": "811cd6ae-13d7-4236-b478-0c7c817acb2e"
    },
    {
      "cell_type": "code",
      "source": [
        "from azureml.core import Datastore,Workspace,Dataset\r\n",
        "# Get a named datastore from the current workspace\r\n",
        "ws = Workspace.from_config()\r\n",
        "datastore = Datastore.get(ws, datastore_name='aisdatastore')"
      ],
      "outputs": [],
      "execution_count": 2,
      "metadata": {
        "jupyter": {
          "source_hidden": false,
          "outputs_hidden": false
        },
        "nteract": {
          "transient": {
            "deleting": false
          }
        },
        "gather": {
          "logged": 1658307164965
        }
      },
      "id": "c28cd2c6-0618-4413-a829-7f0a924e4f21"
    },
    {
      "cell_type": "code",
      "source": [
        "rotte_dataset = ws.datasets[\"rotte\"]"
      ],
      "outputs": [],
      "execution_count": 3,
      "metadata": {
        "jupyter": {
          "source_hidden": false,
          "outputs_hidden": false
        },
        "nteract": {
          "transient": {
            "deleting": false
          }
        },
        "gather": {
          "logged": 1658307166408
        }
      },
      "id": "8dd1b8f9-d80e-481d-82ce-43aaefbc963f"
    },
    {
      "cell_type": "code",
      "source": [
        "rotte_dataset = rotte_dataset.to_pandas_dataframe()"
      ],
      "outputs": [
        {
          "output_type": "stream",
          "name": "stdout",
          "text": "Resolving access token for scope \"https://datalake.azure.net//.default\" using identity of type \"MANAGED\".\nGetting data access token with Assigned Identity (client_id=clientid) and endpoint type based on configuration\n"
        }
      ],
      "execution_count": 4,
      "metadata": {
        "jupyter": {
          "source_hidden": false,
          "outputs_hidden": false
        },
        "nteract": {
          "transient": {
            "deleting": false
          }
        },
        "gather": {
          "logged": 1658307186424
        }
      },
      "id": "98f81e73-f3a7-4567-90ec-6082bee3a439"
    },
    {
      "cell_type": "code",
      "source": [
        "ais_dataset =  ws.datasets[\"ais\"]"
      ],
      "outputs": [],
      "execution_count": 5,
      "metadata": {
        "jupyter": {
          "source_hidden": false,
          "outputs_hidden": false
        },
        "nteract": {
          "transient": {
            "deleting": false
          }
        },
        "gather": {
          "logged": 1658307191569
        }
      },
      "id": "c67447a6-d425-430c-b344-3ada7dab99e5"
    },
    {
      "cell_type": "code",
      "source": [
        "ais_dataset = ais_dataset.to_pandas_dataframe()"
      ],
      "outputs": [],
      "execution_count": 6,
      "metadata": {
        "jupyter": {
          "source_hidden": false,
          "outputs_hidden": false
        },
        "nteract": {
          "transient": {
            "deleting": false
          }
        },
        "gather": {
          "logged": 1658307193957
        }
      },
      "id": "8167a5dc-2d95-49c2-ac39-1b148c8d9e1b"
    },
    {
      "cell_type": "code",
      "source": [
        "#config = configparser.ConfigParser()\n",
        "#config.read('ais_config.ini')"
      ],
      "outputs": [],
      "execution_count": 8,
      "metadata": {
        "gather": {
          "logged": 1658239044710
        }
      },
      "id": "9aeda8d8-232f-4af6-9b5f-25d6df5dc536"
    },
    {
      "cell_type": "code",
      "source": [
        "# read values from a section\n",
        "#ais_dataset_name = config.get('INIT', 'ais_dataset_name')\n",
        "#rotte_dataset_name = config.get('INIT', 'rotte_dataset_name')\n",
        "#rottesort_filename = config.get('PREPROCESS', 'rottesort_filename')\n",
        "\n",
        "#world_porti_filename = config.get('INIT', 'world_porti_filename')\n",
        "#arrivi_nei_porti_fname = config.get('ELABORATION','arrivi_nei_porti_fname')\n",
        "#rotte_arrivi_porti_world_fname = config.get('ELABORATION','rotte_arrivi_porti_world_fname')\n",
        "#rotte_arrivi_porti_all_fname = config.get('ELABORATION','rotte_arrivi_porti_all_fname')\n",
        "\n",
        "#ais_dataset = pd.read_csv(ais_dataset_name, sep=',')\n",
        "#ais_dataset.head()"
      ],
      "outputs": [],
      "execution_count": 9,
      "metadata": {
        "gather": {
          "logged": 1658239044990
        }
      },
      "id": "d27f44ed-74a1-412b-9197-b5feb41f7e9e"
    },
    {
      "cell_type": "code",
      "source": [
        "vessels_type = ais_dataset['type_summary'].unique()\n",
        "vessels_flag = ais_dataset['flag'].unique()"
      ],
      "outputs": [],
      "execution_count": 10,
      "metadata": {
        "gather": {
          "logged": 1658307744088
        }
      },
      "id": "7f09928a-b58f-4da2-b4ed-acb0f56bbc8f"
    },
    {
      "cell_type": "code",
      "source": [
        "print(vessels_type)\n",
        "print(vessels_flag)"
      ],
      "outputs": [
        {
          "output_type": "stream",
          "name": "stdout",
          "text": "['Cargo' 'Tug' 'Pleasure Craft' 'NULL' 'Passenger' 'Tanker'\n 'Special Craft' 'High Speed Craft' 'Fishing' 'Sailing Vessel'\n 'Search and Rescue' 'Other' 'Unspecified']\n['--' 'KY' 'IT' 'GB' 'DZ' 'MH' 'AL' 'BE' 'BG' 'CY' 'DE' 'MD' 'MT' 'DK'\n 'ES' 'FR' 'GI' 'GR' 'HR' 'MA' 'NL' 'PA' 'KI' 'RU' 'BS' 'LU' 'MC' 'PT'\n 'NO' 'SE' 'CH' 'TR' 'UA' 'LV' 'LT' 'AG' 'BM' 'BZ' 'BB' 'HN' 'US' 'JM'\n 'KN' 'VC' 'VG' 'SA' 'CN' 'TW' 'AZ' 'IL' 'JP' 'KZ' 'KR' 'KW' 'LB' 'QA'\n 'HK' 'PW' 'CK' 'NU' 'PH' 'SG' 'TV' 'VN' 'VU' 'WF' 'CM' 'KM' 'EG' 'LR'\n 'PL' 'LY' 'SL' 'TG' 'TN']\n"
        }
      ],
      "execution_count": 11,
      "metadata": {
        "gather": {
          "logged": 1658307745542
        }
      },
      "id": "53b7fbec-38a7-4263-ba4a-b7ab8316cb25"
    },
    {
      "cell_type": "code",
      "source": [
        "vessels_mmsi = ais_dataset['mmsi'].unique().astype(int)\n",
        "vessels_imo = ais_dataset['imo'].unique().astype(int)\n",
        "\n",
        "print(len(vessels_mmsi))\n",
        "print(len(vessels_imo))"
      ],
      "outputs": [
        {
          "output_type": "stream",
          "name": "stdout",
          "text": "3192\n3164\n"
        }
      ],
      "execution_count": 12,
      "metadata": {
        "gather": {
          "logged": 1658307750603
        }
      },
      "id": "2016c020-6edf-4486-97eb-d597a879322f"
    },
    {
      "cell_type": "code",
      "source": [
        "world_porti = ws.datasets[\"porti1\"]"
      ],
      "outputs": [],
      "execution_count": 13,
      "metadata": {
        "jupyter": {
          "source_hidden": false,
          "outputs_hidden": false
        },
        "nteract": {
          "transient": {
            "deleting": false
          }
        },
        "gather": {
          "logged": 1658307752598
        }
      },
      "id": "60fb0fcb-1433-48c0-95b7-b0e01045d3b6"
    },
    {
      "cell_type": "code",
      "source": [
        "try:\r\n",
        "    world_porti = world_porti.to_pandas_dataframe()\r\n",
        "except Exception as e:\r\n",
        "    print(e)\r\n"
      ],
      "outputs": [],
      "execution_count": 14,
      "metadata": {
        "jupyter": {
          "source_hidden": false,
          "outputs_hidden": false
        },
        "nteract": {
          "transient": {
            "deleting": false
          }
        },
        "gather": {
          "logged": 1658307758737
        }
      },
      "id": "c97e6b98-0525-4045-9b1f-4f9c4a4054ca"
    },
    {
      "cell_type": "code",
      "source": [
        "#rotte_dataset = pd.read_csv(rotte_dataset_name, sep=',', low_memory=False)"
      ],
      "outputs": [],
      "execution_count": 15,
      "metadata": {
        "gather": {
          "logged": 1658239047525
        }
      },
      "id": "3c772fb4-5b65-4de2-8e02-61294e39d203"
    },
    {
      "cell_type": "code",
      "source": [
        "#drop NA values\n",
        "rotte_dataset=rotte_dataset.dropna()"
      ],
      "outputs": [],
      "execution_count": 15,
      "metadata": {
        "gather": {
          "logged": 1658307764606
        }
      },
      "id": "0efda07a-4372-4f31-8260-a3a45237ce53"
    },
    {
      "cell_type": "code",
      "source": [
        "#build timestamp column to be added to rotte_092021 dataframe\n",
        "stamp=rotte_dataset['stamp'].astype(float)\n",
        "#stamp\n",
        "from datetime import datetime\n",
        "timestamp_column = stamp.apply(lambda x: datetime.fromtimestamp(x))\n",
        "#timestamp_column"
      ],
      "outputs": [],
      "execution_count": 16,
      "metadata": {
        "gather": {
          "logged": 1658307800339
        }
      },
      "id": "f34dcc7f-dce5-4ff5-98a4-0e0e4aabfc8f"
    },
    {
      "cell_type": "code",
      "source": [
        "#add timestamp column to rotte_092021 dataframe\n",
        "rotte_dataset['timestamp'] = timestamp_column.values"
      ],
      "outputs": [
        {
          "output_type": "stream",
          "name": "stderr",
          "text": "/tmp/ipykernel_7678/2719174265.py:2: SettingWithCopyWarning: \nA value is trying to be set on a copy of a slice from a DataFrame.\nTry using .loc[row_indexer,col_indexer] = value instead\n\nSee the caveats in the documentation: https://pandas.pydata.org/pandas-docs/stable/user_guide/indexing.html#returning-a-view-versus-a-copy\n  rotte_dataset['timestamp'] = timestamp_column.values\n"
        }
      ],
      "execution_count": 17,
      "metadata": {
        "gather": {
          "logged": 1658307800675
        }
      },
      "id": "a66e0877-36b5-4cd4-9456-c6afc3b735ea"
    },
    {
      "cell_type": "code",
      "source": [
        "#rotte_dataset.head()"
      ],
      "outputs": [
        {
          "output_type": "execute_result",
          "execution_count": 19,
          "data": {
            "text/plain": "          mmsi        lng       lat  speed      a     b       time  \\\n0  248730000.0   8.371692  40.84104    0.0  115.0   3.0 2021-09-01   \n1  257328000.0 -85.628200  30.13659    0.0  313.0  56.0 2021-09-01   \n2  248730000.0   8.371658  40.84102    0.0  115.0   3.0 2021-09-01   \n3  248730000.0   8.371685  40.84101    0.0  115.0   3.0 2021-09-01   \n4  248730000.0   8.371672  40.84102    0.0  115.0   3.0 2021-09-01   \n\n          stamp    c    d           timestamp  \n0  1.630488e+09  0.0 -1.0 2021-09-01 09:24:50  \n1  1.630488e+09  0.0 -1.0 2021-09-01 09:24:20  \n2  1.630462e+09  0.0 -1.0 2021-09-01 02:00:35  \n3  1.630461e+09  0.0 -1.0 2021-09-01 01:56:14  \n4  1.630461e+09  0.0 -1.0 2021-09-01 01:51:33  ",
            "text/html": "<div>\n<style scoped>\n    .dataframe tbody tr th:only-of-type {\n        vertical-align: middle;\n    }\n\n    .dataframe tbody tr th {\n        vertical-align: top;\n    }\n\n    .dataframe thead th {\n        text-align: right;\n    }\n</style>\n<table border=\"1\" class=\"dataframe\">\n  <thead>\n    <tr style=\"text-align: right;\">\n      <th></th>\n      <th>mmsi</th>\n      <th>lng</th>\n      <th>lat</th>\n      <th>speed</th>\n      <th>a</th>\n      <th>b</th>\n      <th>time</th>\n      <th>stamp</th>\n      <th>c</th>\n      <th>d</th>\n      <th>timestamp</th>\n    </tr>\n  </thead>\n  <tbody>\n    <tr>\n      <th>0</th>\n      <td>248730000.0</td>\n      <td>8.371692</td>\n      <td>40.84104</td>\n      <td>0.0</td>\n      <td>115.0</td>\n      <td>3.0</td>\n      <td>2021-09-01</td>\n      <td>1.630488e+09</td>\n      <td>0.0</td>\n      <td>-1.0</td>\n      <td>2021-09-01 09:24:50</td>\n    </tr>\n    <tr>\n      <th>1</th>\n      <td>257328000.0</td>\n      <td>-85.628200</td>\n      <td>30.13659</td>\n      <td>0.0</td>\n      <td>313.0</td>\n      <td>56.0</td>\n      <td>2021-09-01</td>\n      <td>1.630488e+09</td>\n      <td>0.0</td>\n      <td>-1.0</td>\n      <td>2021-09-01 09:24:20</td>\n    </tr>\n    <tr>\n      <th>2</th>\n      <td>248730000.0</td>\n      <td>8.371658</td>\n      <td>40.84102</td>\n      <td>0.0</td>\n      <td>115.0</td>\n      <td>3.0</td>\n      <td>2021-09-01</td>\n      <td>1.630462e+09</td>\n      <td>0.0</td>\n      <td>-1.0</td>\n      <td>2021-09-01 02:00:35</td>\n    </tr>\n    <tr>\n      <th>3</th>\n      <td>248730000.0</td>\n      <td>8.371685</td>\n      <td>40.84101</td>\n      <td>0.0</td>\n      <td>115.0</td>\n      <td>3.0</td>\n      <td>2021-09-01</td>\n      <td>1.630461e+09</td>\n      <td>0.0</td>\n      <td>-1.0</td>\n      <td>2021-09-01 01:56:14</td>\n    </tr>\n    <tr>\n      <th>4</th>\n      <td>248730000.0</td>\n      <td>8.371672</td>\n      <td>40.84102</td>\n      <td>0.0</td>\n      <td>115.0</td>\n      <td>3.0</td>\n      <td>2021-09-01</td>\n      <td>1.630461e+09</td>\n      <td>0.0</td>\n      <td>-1.0</td>\n      <td>2021-09-01 01:51:33</td>\n    </tr>\n  </tbody>\n</table>\n</div>"
          },
          "metadata": {}
        }
      ],
      "execution_count": 19,
      "metadata": {
        "jupyter": {
          "source_hidden": false,
          "outputs_hidden": false
        },
        "nteract": {
          "transient": {
            "deleting": false
          }
        },
        "gather": {
          "logged": 1658239087452
        }
      },
      "id": "3a6b7438-f7be-4981-abdf-4567e9086806"
    },
    {
      "cell_type": "code",
      "source": [
        "#sort_dataset by mmsi,stamp,lng,lat\n",
        "rotte_dataset=rotte_dataset.sort_values(by=['mmsi','stamp','lng','lat'],ascending=[True,True,True,True])\n",
        "#rotte_dataset.head()"
      ],
      "outputs": [],
      "execution_count": 18,
      "metadata": {
        "gather": {
          "logged": 1658307904210
        }
      },
      "id": "9562c1c3-4b1d-4e1d-88ad-46e4fa9e4ad9"
    },
    {
      "cell_type": "code",
      "source": [
        "#Analysis of data\n",
        "#rotte_dataset_218158000 = rotte_dataset[rotte_dataset['mmsi']=='218158000']\n",
        "\n",
        "#rotte_dataset_201100115 = rotte_dataset[rotte_dataset['mmsi']=='201100115']\n",
        "\n",
        "#rotte_dataset_247046800 = rotte_dataset[rotte_dataset['mmsi']==247046800]\n",
        "#rotte_dataset_247046800.to_csv(\"df_rotte_dataset_247046800_set2021.csv\",index=False,sep=',')\n",
        "\n",
        "rotte_dataset_247043300 = rotte_dataset[rotte_dataset['mmsi']==247043300]\n",
        "rotte_dataset_247043300.to_csv(\"df_rotte_dataset_247043300_set2021.csv\",index=False,sep=',')\n",
        "\n"
      ],
      "outputs": [],
      "execution_count": 21,
      "metadata": {
        "gather": {
          "logged": 1658310616450
        }
      },
      "id": "67dba695-cfcf-4738-8681-a9976533cd8e"
    },
    {
      "cell_type": "code",
      "source": [
        "ais_dataset[ais_dataset['mmsi']==247043300]\r\n"
      ],
      "outputs": [
        {
          "output_type": "execute_result",
          "execution_count": 24,
          "data": {
            "text/plain": "           lat       lng  speed course heading  elapsed destination flag  \\\n7878  40.84383  14.26333    0.0   NULL    NULL        4        None   IT   \n7879  40.83452  14.26462    0.0     32    NULL        3        MARE   IT   \n7880  40.83451  14.26461    0.0     27    NULL      493        MARE   IT   \n7881  40.83452  14.26463    0.0     29    NULL        3        MARE   IT   \n7882  40.83451  14.26464    0.0     30    NULL      469        MARE   IT   \n7883  40.84383  14.26333    0.0   NULL    NULL        4        None   IT   \n7884  40.83512  14.26530   46.0    109    NULL       10        MARE   IT   \n7885  40.84310  14.26370    0.0    109    NULL      822        MARE   IT   \n7886  40.83451  14.26462    0.0     23    NULL        8        MARE   IT   \n\n      length   rot  ... w_left   dwt  gt_shiptype  shiptype       time  \\\n7878     1.0  NULL  ...    0.0  NULL          NaN         1 2021-09-06   \n7879    57.0  NULL  ...    6.0    25         23.0         6 2021-09-07   \n7880    57.0  NULL  ...    6.0    25         23.0         6 2021-09-08   \n7881    57.0  NULL  ...    6.0    25         23.0         6 2021-09-14   \n7882    57.0  NULL  ...    6.0    25         23.0         6 2021-09-15   \n7883     1.0  NULL  ...    0.0  NULL          NaN         1 2021-09-19   \n7884    57.0  NULL  ...    6.0    25         23.0         6 2021-09-24   \n7885    57.0  NULL  ...    6.0    25         23.0         6 2021-09-25   \n7886    57.0  NULL  ...    6.0    25         23.0         6 2021-09-28   \n\n          imo       mmsi   porto type_summary  cod_porto  \n7878  5258482  247043300  Napoli         NULL  IT00ITNAP  \n7879  5258482  247043300  Napoli    Passenger  IT00ITNAP  \n7880  5258482  247043300  Napoli    Passenger  IT00ITNAP  \n7881  5258482  247043300  Napoli    Passenger  IT00ITNAP  \n7882  5258482  247043300  Napoli    Passenger  IT00ITNAP  \n7883  5258482  247043300  Napoli         NULL  IT00ITNAP  \n7884  5258482  247043300  Napoli    Passenger  IT00ITNAP  \n7885  5258482  247043300  Napoli    Passenger  IT00ITNAP  \n7886  5258482  247043300  Napoli    Passenger  IT00ITNAP  \n\n[9 rows x 24 columns]",
            "text/html": "<div>\n<style scoped>\n    .dataframe tbody tr th:only-of-type {\n        vertical-align: middle;\n    }\n\n    .dataframe tbody tr th {\n        vertical-align: top;\n    }\n\n    .dataframe thead th {\n        text-align: right;\n    }\n</style>\n<table border=\"1\" class=\"dataframe\">\n  <thead>\n    <tr style=\"text-align: right;\">\n      <th></th>\n      <th>lat</th>\n      <th>lng</th>\n      <th>speed</th>\n      <th>course</th>\n      <th>heading</th>\n      <th>elapsed</th>\n      <th>destination</th>\n      <th>flag</th>\n      <th>length</th>\n      <th>rot</th>\n      <th>...</th>\n      <th>w_left</th>\n      <th>dwt</th>\n      <th>gt_shiptype</th>\n      <th>shiptype</th>\n      <th>time</th>\n      <th>imo</th>\n      <th>mmsi</th>\n      <th>porto</th>\n      <th>type_summary</th>\n      <th>cod_porto</th>\n    </tr>\n  </thead>\n  <tbody>\n    <tr>\n      <th>7878</th>\n      <td>40.84383</td>\n      <td>14.26333</td>\n      <td>0.0</td>\n      <td>NULL</td>\n      <td>NULL</td>\n      <td>4</td>\n      <td>None</td>\n      <td>IT</td>\n      <td>1.0</td>\n      <td>NULL</td>\n      <td>...</td>\n      <td>0.0</td>\n      <td>NULL</td>\n      <td>NaN</td>\n      <td>1</td>\n      <td>2021-09-06</td>\n      <td>5258482</td>\n      <td>247043300</td>\n      <td>Napoli</td>\n      <td>NULL</td>\n      <td>IT00ITNAP</td>\n    </tr>\n    <tr>\n      <th>7879</th>\n      <td>40.83452</td>\n      <td>14.26462</td>\n      <td>0.0</td>\n      <td>32</td>\n      <td>NULL</td>\n      <td>3</td>\n      <td>MARE</td>\n      <td>IT</td>\n      <td>57.0</td>\n      <td>NULL</td>\n      <td>...</td>\n      <td>6.0</td>\n      <td>25</td>\n      <td>23.0</td>\n      <td>6</td>\n      <td>2021-09-07</td>\n      <td>5258482</td>\n      <td>247043300</td>\n      <td>Napoli</td>\n      <td>Passenger</td>\n      <td>IT00ITNAP</td>\n    </tr>\n    <tr>\n      <th>7880</th>\n      <td>40.83451</td>\n      <td>14.26461</td>\n      <td>0.0</td>\n      <td>27</td>\n      <td>NULL</td>\n      <td>493</td>\n      <td>MARE</td>\n      <td>IT</td>\n      <td>57.0</td>\n      <td>NULL</td>\n      <td>...</td>\n      <td>6.0</td>\n      <td>25</td>\n      <td>23.0</td>\n      <td>6</td>\n      <td>2021-09-08</td>\n      <td>5258482</td>\n      <td>247043300</td>\n      <td>Napoli</td>\n      <td>Passenger</td>\n      <td>IT00ITNAP</td>\n    </tr>\n    <tr>\n      <th>7881</th>\n      <td>40.83452</td>\n      <td>14.26463</td>\n      <td>0.0</td>\n      <td>29</td>\n      <td>NULL</td>\n      <td>3</td>\n      <td>MARE</td>\n      <td>IT</td>\n      <td>57.0</td>\n      <td>NULL</td>\n      <td>...</td>\n      <td>6.0</td>\n      <td>25</td>\n      <td>23.0</td>\n      <td>6</td>\n      <td>2021-09-14</td>\n      <td>5258482</td>\n      <td>247043300</td>\n      <td>Napoli</td>\n      <td>Passenger</td>\n      <td>IT00ITNAP</td>\n    </tr>\n    <tr>\n      <th>7882</th>\n      <td>40.83451</td>\n      <td>14.26464</td>\n      <td>0.0</td>\n      <td>30</td>\n      <td>NULL</td>\n      <td>469</td>\n      <td>MARE</td>\n      <td>IT</td>\n      <td>57.0</td>\n      <td>NULL</td>\n      <td>...</td>\n      <td>6.0</td>\n      <td>25</td>\n      <td>23.0</td>\n      <td>6</td>\n      <td>2021-09-15</td>\n      <td>5258482</td>\n      <td>247043300</td>\n      <td>Napoli</td>\n      <td>Passenger</td>\n      <td>IT00ITNAP</td>\n    </tr>\n    <tr>\n      <th>7883</th>\n      <td>40.84383</td>\n      <td>14.26333</td>\n      <td>0.0</td>\n      <td>NULL</td>\n      <td>NULL</td>\n      <td>4</td>\n      <td>None</td>\n      <td>IT</td>\n      <td>1.0</td>\n      <td>NULL</td>\n      <td>...</td>\n      <td>0.0</td>\n      <td>NULL</td>\n      <td>NaN</td>\n      <td>1</td>\n      <td>2021-09-19</td>\n      <td>5258482</td>\n      <td>247043300</td>\n      <td>Napoli</td>\n      <td>NULL</td>\n      <td>IT00ITNAP</td>\n    </tr>\n    <tr>\n      <th>7884</th>\n      <td>40.83512</td>\n      <td>14.26530</td>\n      <td>46.0</td>\n      <td>109</td>\n      <td>NULL</td>\n      <td>10</td>\n      <td>MARE</td>\n      <td>IT</td>\n      <td>57.0</td>\n      <td>NULL</td>\n      <td>...</td>\n      <td>6.0</td>\n      <td>25</td>\n      <td>23.0</td>\n      <td>6</td>\n      <td>2021-09-24</td>\n      <td>5258482</td>\n      <td>247043300</td>\n      <td>Napoli</td>\n      <td>Passenger</td>\n      <td>IT00ITNAP</td>\n    </tr>\n    <tr>\n      <th>7885</th>\n      <td>40.84310</td>\n      <td>14.26370</td>\n      <td>0.0</td>\n      <td>109</td>\n      <td>NULL</td>\n      <td>822</td>\n      <td>MARE</td>\n      <td>IT</td>\n      <td>57.0</td>\n      <td>NULL</td>\n      <td>...</td>\n      <td>6.0</td>\n      <td>25</td>\n      <td>23.0</td>\n      <td>6</td>\n      <td>2021-09-25</td>\n      <td>5258482</td>\n      <td>247043300</td>\n      <td>Napoli</td>\n      <td>Passenger</td>\n      <td>IT00ITNAP</td>\n    </tr>\n    <tr>\n      <th>7886</th>\n      <td>40.83451</td>\n      <td>14.26462</td>\n      <td>0.0</td>\n      <td>23</td>\n      <td>NULL</td>\n      <td>8</td>\n      <td>MARE</td>\n      <td>IT</td>\n      <td>57.0</td>\n      <td>NULL</td>\n      <td>...</td>\n      <td>6.0</td>\n      <td>25</td>\n      <td>23.0</td>\n      <td>6</td>\n      <td>2021-09-28</td>\n      <td>5258482</td>\n      <td>247043300</td>\n      <td>Napoli</td>\n      <td>Passenger</td>\n      <td>IT00ITNAP</td>\n    </tr>\n  </tbody>\n</table>\n<p>9 rows × 24 columns</p>\n</div>"
          },
          "metadata": {}
        }
      ],
      "execution_count": 24,
      "metadata": {
        "jupyter": {
          "source_hidden": false,
          "outputs_hidden": false
        },
        "nteract": {
          "transient": {
            "deleting": false
          }
        },
        "gather": {
          "logged": 1658310981869
        }
      },
      "id": "44f60306-441d-4717-870e-1d7286135e02"
    },
    {
      "cell_type": "code",
      "source": [
        "#Analysis of data\n",
        "#rotte_dataset_218158000.to_csv(\"DCME\\\\AIS\\\\rotte_with_speed_2021\\\\rotte_arrivi_porti_set2021_218158000.csv\",index=False,sep=',')\n",
        "#rotte_dataset_201100115.to_csv(\"DCME\\\\AIS\\\\rotte_with_speed_2021\\\\rotte_arrivi_porti_set2021_201100115.csv\",index=False,sep=',')"
      ],
      "outputs": [],
      "execution_count": 22,
      "metadata": {
        "gather": {
          "logged": 1658239194408
        }
      },
      "id": "74b11e0d-3b4a-4d34-92e4-3da5cf3d49e5"
    },
    {
      "cell_type": "code",
      "source": [
        "class Utils(object):\n",
        "   def intersect(self, nums1, nums2):\n",
        "      \"\"\"\n",
        "      :type nums1: List[int]\n",
        "      :type nums2: List[int]\n",
        "      :rtype: List[int]\n",
        "      \"\"\"\n",
        "      m = {}\n",
        "      print(len(nums1))\n",
        "      print(len(nums2))\n",
        "      if len(nums1)<len(nums2):\n",
        "         nums1,nums2 = nums2,nums1\n",
        "      for i in nums1:\n",
        "         if i not in m:\n",
        "            m[i] = 1\n",
        "         else:\n",
        "            m[i]+=1\n",
        "      result = []\n",
        "      for i in nums2:\n",
        "         if i in m and m[i]:\n",
        "            m[i]-=1\n",
        "            result.append(i)\n",
        "      return result"
      ],
      "outputs": [],
      "execution_count": 23,
      "metadata": {
        "gather": {
          "logged": 1658239194706
        }
      },
      "id": "d219e524-9b33-4a9e-8405-5c7640b7d8da"
    },
    {
      "cell_type": "code",
      "source": [
        "rotte_dataset_mmsi =  rotte_dataset['mmsi'].unique().astype(int)\n",
        "print(len(rotte_dataset_mmsi))"
      ],
      "outputs": [
        {
          "output_type": "stream",
          "name": "stdout",
          "text": "2840\n"
        }
      ],
      "execution_count": 24,
      "metadata": {
        "gather": {
          "logged": 1658239195011
        }
      },
      "id": "9ade7957-27b1-4843-bd7e-1820b99525af"
    },
    {
      "cell_type": "code",
      "source": [
        "utils = Utils()\n",
        "mmsi_intersection = utils.intersect(vessels_mmsi.tolist(), rotte_dataset_mmsi.tolist())\n",
        "#print(f'result intersection: {mmsi_intersection}')"
      ],
      "outputs": [
        {
          "output_type": "stream",
          "name": "stdout",
          "text": "3192\n2840\n"
        }
      ],
      "execution_count": 25,
      "metadata": {
        "gather": {
          "logged": 1658239195281
        }
      },
      "id": "049e4df3-722b-43ab-8287-5cd2572a7e5e"
    },
    {
      "cell_type": "code",
      "source": [
        "#Drop rows whose mmsi is not in rotte_092021_simplified(rotte_092021_mmsi,vessels_mmsi) from rotte_092021,\n",
        "# i.e. get only rows whos mmsi is in mmsi_intersection\n",
        "\n",
        "rotte_dataset_simplified = rotte_dataset[rotte_dataset['mmsi'].astype(int).isin(mmsi_intersection)]\n",
        "\n",
        "#rotte_dataset_simplified = rotte_dataset[rotte_dataset['mmsi'].astype(int).isin(vessels_mmsi)]\n",
        "#rotte_dataset_simplified.head()\n",
        "len(rotte_dataset_simplified)"
      ],
      "outputs": [
        {
          "output_type": "execute_result",
          "execution_count": 26,
          "data": {
            "text/plain": "33474627"
          },
          "metadata": {}
        }
      ],
      "execution_count": 26,
      "metadata": {
        "gather": {
          "logged": 1658239198580
        }
      },
      "id": "d84c88a0-703a-46aa-8948-9a019c86e5f7"
    },
    {
      "cell_type": "code",
      "source": [
        "rotte_dataset_simplified = rotte_dataset_simplified.reset_index()\n",
        "#rotte_dataset_simplified.head()"
      ],
      "outputs": [],
      "execution_count": 27,
      "metadata": {
        "gather": {
          "logged": 1658239199972
        }
      },
      "id": "44986c3c-95dc-4af8-bfc5-957acaf87046"
    },
    {
      "cell_type": "markdown",
      "source": [
        "ELABORAZIONE DELLE ROTTE"
      ],
      "metadata": {},
      "id": "bcce58ff-c8f5-47b2-9dc3-dc4563ba935b"
    },
    {
      "cell_type": "code",
      "source": [
        "from datetime import datetime\n",
        "import haversine as hs\n",
        "from haversine import Unit"
      ],
      "outputs": [],
      "execution_count": 28,
      "metadata": {
        "gather": {
          "logged": 1658239200211
        }
      },
      "id": "1de66ac3-72d8-484b-b4a5-60e138b129f6"
    },
    {
      "cell_type": "code",
      "source": [
        "#elaborazione degli arrivi (df)\n",
        "def arrival_elaboration(df_rotte):\n",
        "    #df_rotte = rottesort\n",
        "\n",
        "    dim=len(df_rotte)\n",
        "    print(\"df_rotte len before: \",dim)\n",
        "\n",
        "    df_arrival = pd.DataFrame(columns = ['row','mmsi','arrival','departure','lng','lat','lng_orig','lat_orig','speed','status'])\n",
        "\n",
        "    oldmmsi=0\n",
        "    sumrec=0\n",
        "    start=0\n",
        "    lat_orig=0\n",
        "    lng_orig=0\n",
        "    oldlng=0\n",
        "    oldlat=0\n",
        "    start = None\n",
        "    i=0\n",
        "    status=0 ###0-nuovo 1-arrivato 2-partito\n",
        "    end = None\n",
        "    speed = None\n",
        "\n",
        "    start_time = datetime.now()\n",
        "\n",
        "    for item in df_rotte.itertuples():\n",
        "        try:\n",
        "            #item = df_rotte.iloc[i]\n",
        "            mmsi,time_voyage,lng,lat,speed = item.mmsi,item.timestamp,float(item.lng),float(item.lat),int(item.speed)\n",
        "\n",
        "            if(mmsi!=oldmmsi):\n",
        "                if (status==1):#si riferisce alla old ship\n",
        "                    df_arrival=df_arrival.append({'row':i,'mmsi':oldmmsi,'arrival':start,\n",
        "                           'departure':end,'lng':oldlng,'lat':oldlat,'lng_orig':lng_orig,'lat_orig':lat_orig,\n",
        "                            'speed':speed,'status':status},ignore_index=True)\n",
        "                start,status,lng_orig,lat_orig,oldlng,oldlat,oldmmsi=None,0,0,0,0,0,mmsi\n",
        "                oldmmsi = mmsi\n",
        "    \n",
        "            if(speed==0):          \n",
        "                if (status==0):\n",
        "                    start,oldlng,oldlat = time_voyage,lng,lat\n",
        "                \n",
        "                #To calculate distance in meters\n",
        "                if(status<2):\n",
        "                    loc1=(lat,lng)\n",
        "                    loc2=(oldlat,oldlng)\n",
        "            \n",
        "                    distance = hs.haversine(loc1,loc2,unit=Unit.METERS)\n",
        "            \n",
        "                    if(distance > 3000.0):\n",
        "                        #print(distance)\n",
        "                        #if ((abs(oldlng-lng)+abs(oldlat-lat))>0.3):\n",
        "                        df_arrival=df_arrival.append({'row':i,'mmsi':oldmmsi,'arrival':start,\n",
        "                           'departure':end,'lng':oldlng,'lat':oldlat,\n",
        "                                       'lng_orig':lng_orig,'lat_orig':lat_orig,'speed':speed,'status':status},ignore_index=True)\n",
        "                        start,lng_orig,lat_orig,oldlng,oldlat = time_voyage,oldlng,oldlat,lng,lat\n",
        "                    \n",
        "                if(status==2):\n",
        "                    start,lng_orig,lat_orig,oldlng,oldlat = time_voyage,oldlng,oldlat,lng,lat\n",
        "                    \n",
        "                end=time_voyage\n",
        "                status=1\n",
        "                \n",
        "            if (speed>0):\n",
        "                if(status==1):\n",
        "                    loc1=(lat,lng)\n",
        "                    loc2=(oldlat,oldlng)\n",
        "                    distance = hs.haversine(loc1,loc2,unit=Unit.METERS)\n",
        "                    if(distance > 3000.0):\n",
        "                        df_arrival=df_arrival.append({'row':i,'mmsi':oldmmsi,'arrival':start,\n",
        "                           'departure':end,'lng':oldlng,'lat':oldlat,\n",
        "                            'lng_orig':lng_orig,'lat_orig':lat_orig,'speed':speed,'status':2},ignore_index=True)\n",
        "                        \n",
        "                        status,lng_orig,lat_orig = 2,oldlng,oldlat\n",
        "                if(status==0):\n",
        "                    status=2\n",
        "                   \n",
        "            #stampa di controllo\n",
        "            if(i%1000000 == 0):\n",
        "               print(i)\n",
        "        except Exception as e:\n",
        "            print(i,\" \")\n",
        "            print(e)\n",
        "        i+=1\n",
        "    #end for\n",
        "    \n",
        "    #scrive l'ultimo record\n",
        "    if(status==1):\n",
        "            df_arrival=df_arrival.append({'row':i,'mmsi':oldmmsi,'arrival':start,\n",
        "                        'departure':end,'lng':oldlng,'lat':oldlat,\n",
        "                        'lng_orig':lng_orig,'lat_orig':lat_orig,'speed':speed,'status':status},ignore_index=True)\n",
        "\n",
        " \n",
        "    end_time = datetime.now()\n",
        "    print('Duration: {}'.format(end_time - start_time))\n",
        "    print(\"df_arrival len after: \",len(df_arrival))\n",
        "    \n",
        "    return(df_arrival)"
      ],
      "outputs": [],
      "execution_count": 29,
      "metadata": {
        "gather": {
          "logged": 1658239200438
        }
      },
      "id": "f7bdf497-93cd-4bcc-80c5-1e5bb89b718e"
    },
    {
      "cell_type": "code",
      "source": [
        "df_rotte = rotte_dataset_simplified[['mmsi','stamp','timestamp','lng','lat','speed']]\n",
        "df_rotte = df_rotte.sort_values(by=['mmsi','stamp'],ascending=[True,True])\n",
        "df_rotte = df_rotte.reset_index()"
      ],
      "outputs": [],
      "execution_count": 32,
      "metadata": {
        "gather": {
          "logged": 1658239485067
        }
      },
      "id": "f9d2e697-52fb-43d6-b064-60dea5a5efdd"
    },
    {
      "cell_type": "code",
      "source": [
        "df_arrival= arrival_elaboration(df_rotte)"
      ],
      "outputs": [
        {
          "output_type": "stream",
          "name": "stdout",
          "text": "df_rotte len before:  33474627\n0\n1000000\n2000000\n3000000\n4000000\n5000000\n6000000\n7000000\n8000000\n9000000\n10000000\n11000000\n12000000\n13000000\n14000000\n15000000\n16000000\n17000000\n18000000\n19000000\n20000000\n21000000\n22000000\n23000000\n24000000\n25000000\n26000000\n27000000\n28000000\n29000000\n30000000\n31000000\n32000000\n33000000\nDuration: 0:21:46.150702\ndf_arrival len after:  83187\n"
        }
      ],
      "execution_count": 33,
      "metadata": {
        "gather": {
          "logged": 1658240791198
        }
      },
      "id": "33e77b83-6e01-47a4-a375-827ccbf3600f"
    },
    {
      "cell_type": "code",
      "source": [
        "#world_porti = pd.read_csv(world_porti_filename, sep=',',low_memory=False)"
      ],
      "outputs": [],
      "execution_count": null,
      "metadata": {
        "gather": {
          "logged": 1658239306195
        }
      },
      "id": "53cb17f4-7ce2-4d14-9509-c425524eec19"
    },
    {
      "cell_type": "code",
      "source": [
        "#len(world_porti)"
      ],
      "outputs": [],
      "execution_count": null,
      "metadata": {
        "gather": {
          "logged": 1658239306216
        }
      },
      "id": "16f0af0e-ed67-4256-a684-e0df9a9e7162"
    },
    {
      "cell_type": "code",
      "source": [
        "ita_porti = world_porti[world_porti['Country']=='ITA']\n",
        "len(ita_porti)"
      ],
      "outputs": [
        {
          "output_type": "execute_result",
          "execution_count": 34,
          "data": {
            "text/plain": "457"
          },
          "metadata": {}
        }
      ],
      "execution_count": 34,
      "metadata": {
        "gather": {
          "logged": 1658240892478
        }
      },
      "id": "fea59972-87a7-4e7c-80d9-676dd4b2af5c"
    },
    {
      "cell_type": "code",
      "source": [
        "world_porti=world_porti[['Country','Name','Latitude','Longitude','UNLocode']]"
      ],
      "outputs": [],
      "execution_count": 35,
      "metadata": {
        "gather": {
          "logged": 1658240896184
        }
      },
      "id": "f9795183-de4a-4ce2-8d2b-76b7c7165dfb"
    },
    {
      "cell_type": "code",
      "source": [
        "world_porti.reset_index(drop=True,inplace=True)"
      ],
      "outputs": [],
      "execution_count": 36,
      "metadata": {
        "gather": {
          "logged": 1658240897782
        }
      },
      "id": "e032d9ad-86e8-4f47-bad2-cb68f5b38918"
    },
    {
      "cell_type": "code",
      "source": [
        "def port_assign(df_rotte,df_porti):\n",
        "    \n",
        "    n=len(df_rotte)\n",
        "    df = df_rotte\n",
        "    df[\"port\"] = [\"null\"]*n\n",
        "    df[\"port_orig\"] = [\"null\"]*n\n",
        "    df[\"UNLocode\"] = [\"NA\"]*n \n",
        "    df[\"UNLocode_orig\"] = [\"NA\"]*n\n",
        "\n",
        "    start_time = datetime.now()\n",
        "    \n",
        "    i=0\n",
        "    for rotta in df_rotte.itertuples():\n",
        "        found_orig,found=0,0\n",
        "        #departure port position\n",
        "        loc_orig=(float(rotta.lat_orig),float(rotta.lng_orig))\n",
        "        #arrival port position\n",
        "        loc=(float(rotta.lat),float(rotta.lng))\n",
        "        \n",
        "        for porto in df_porti.itertuples():            \n",
        "            loc_port=(float(porto.Latitude),float(porto.Longitude))            \n",
        "            distance1 = hs.haversine(loc,loc_port,unit=Unit.METERS)\n",
        "            if(distance1 < 5000.0):\n",
        "                df.loc[i,'port']=porto.Name\n",
        "                df.loc[i,'UNLocode'] = porto.UNLocode\n",
        "                found=1\n",
        "                break\n",
        "        if (found==0):\n",
        "            df.loc[i,'port']='Not found'\n",
        "        \n",
        "        for porto in df_porti.itertuples():             \n",
        "            loc_port=(float(porto.Latitude),float(porto.Longitude))\n",
        "            distance2 = hs.haversine(loc_orig,loc_port,unit=Unit.METERS)\n",
        "            if(distance2 < 5000.0):\n",
        "                df.loc[i,'port_orig']=porto.Name\n",
        "                df.loc[i,'UNLocode_orig'] = porto.UNLocode\n",
        "                found_orig=1\n",
        "                break    \n",
        "\n",
        "        if (found_orig==0):\n",
        "            df.loc[i,'port_orig']='Not found'\n",
        "            \n",
        "        #stampa di controllo\n",
        "        if(i%10000 == 0):\n",
        "               print(i)\n",
        "        i+=1\n",
        "    \n",
        "    end_time = datetime.now()\n",
        "    print('Duration: {}'.format(end_time - start_time))\n",
        "    print(\"df_arrival len after: \",len(df_arrival))\n",
        "        \n",
        "    return(df)"
      ],
      "outputs": [],
      "execution_count": 37,
      "metadata": {
        "gather": {
          "logged": 1658240901131
        }
      },
      "id": "951222e3-61df-464c-b0b7-3e571a0884de"
    },
    {
      "cell_type": "code",
      "source": [
        "df_rotte_arrivi_porti = port_assign(df_arrival,world_porti)"
      ],
      "outputs": [
        {
          "output_type": "stream",
          "name": "stdout",
          "text": "0\n10000\n20000\n30000\n40000\n50000\n60000\n70000\n80000\nDuration: 0:48:10.845738\ndf_arrival len after:  83187\n"
        }
      ],
      "execution_count": 38,
      "metadata": {
        "gather": {
          "logged": 1658243799449
        }
      },
      "id": "2393f525-f8c7-4789-bb57-b9cf695013eb"
    },
    {
      "cell_type": "code",
      "source": [
        "df_rotte_arrivi_porti.head()"
      ],
      "outputs": [
        {
          "output_type": "execute_result",
          "execution_count": 39,
          "data": {
            "text/plain": "  row       mmsi             arrival           departure        lng       lat  \\\n0   1  1193046.0 2021-09-01 00:11:25 2021-09-01 00:11:25   8.398606  40.83946   \n1   2  1193046.0 2021-09-01 00:28:00 2021-09-01 00:28:00  23.557100  37.96413   \n2   3  1193046.0 2021-09-01 00:29:25 2021-09-01 00:29:25   8.398600  40.83945   \n3   6  1193046.0 2021-09-01 00:32:02 2021-09-01 00:40:40  23.557080  37.96413   \n4   7  1193046.0 2021-09-01 00:41:26 2021-09-01 00:41:26   8.398599  40.83947   \n\n  lng_orig lat_orig speed status                        port  \\\n0        0        0     0      1                Porto Torres   \n1  8.39861  40.8395     0      1  Keratsini (Agios Georgios)   \n2  23.5571  37.9641     0      1                Porto Torres   \n3   8.3986  40.8394     0      1  Keratsini (Agios Georgios)   \n4  23.5571  37.9641     0      1                Porto Torres   \n\n                    port_orig UNLocode UNLocode_orig  \n0                   Not found    ITPTO            NA  \n1                Porto Torres     None         ITPTO  \n2  Keratsini (Agios Georgios)    ITPTO          None  \n3                Porto Torres     None         ITPTO  \n4  Keratsini (Agios Georgios)    ITPTO          None  ",
            "text/html": "<div>\n<style scoped>\n    .dataframe tbody tr th:only-of-type {\n        vertical-align: middle;\n    }\n\n    .dataframe tbody tr th {\n        vertical-align: top;\n    }\n\n    .dataframe thead th {\n        text-align: right;\n    }\n</style>\n<table border=\"1\" class=\"dataframe\">\n  <thead>\n    <tr style=\"text-align: right;\">\n      <th></th>\n      <th>row</th>\n      <th>mmsi</th>\n      <th>arrival</th>\n      <th>departure</th>\n      <th>lng</th>\n      <th>lat</th>\n      <th>lng_orig</th>\n      <th>lat_orig</th>\n      <th>speed</th>\n      <th>status</th>\n      <th>port</th>\n      <th>port_orig</th>\n      <th>UNLocode</th>\n      <th>UNLocode_orig</th>\n    </tr>\n  </thead>\n  <tbody>\n    <tr>\n      <th>0</th>\n      <td>1</td>\n      <td>1193046.0</td>\n      <td>2021-09-01 00:11:25</td>\n      <td>2021-09-01 00:11:25</td>\n      <td>8.398606</td>\n      <td>40.83946</td>\n      <td>0</td>\n      <td>0</td>\n      <td>0</td>\n      <td>1</td>\n      <td>Porto Torres</td>\n      <td>Not found</td>\n      <td>ITPTO</td>\n      <td>NA</td>\n    </tr>\n    <tr>\n      <th>1</th>\n      <td>2</td>\n      <td>1193046.0</td>\n      <td>2021-09-01 00:28:00</td>\n      <td>2021-09-01 00:28:00</td>\n      <td>23.557100</td>\n      <td>37.96413</td>\n      <td>8.39861</td>\n      <td>40.8395</td>\n      <td>0</td>\n      <td>1</td>\n      <td>Keratsini (Agios Georgios)</td>\n      <td>Porto Torres</td>\n      <td>None</td>\n      <td>ITPTO</td>\n    </tr>\n    <tr>\n      <th>2</th>\n      <td>3</td>\n      <td>1193046.0</td>\n      <td>2021-09-01 00:29:25</td>\n      <td>2021-09-01 00:29:25</td>\n      <td>8.398600</td>\n      <td>40.83945</td>\n      <td>23.5571</td>\n      <td>37.9641</td>\n      <td>0</td>\n      <td>1</td>\n      <td>Porto Torres</td>\n      <td>Keratsini (Agios Georgios)</td>\n      <td>ITPTO</td>\n      <td>None</td>\n    </tr>\n    <tr>\n      <th>3</th>\n      <td>6</td>\n      <td>1193046.0</td>\n      <td>2021-09-01 00:32:02</td>\n      <td>2021-09-01 00:40:40</td>\n      <td>23.557080</td>\n      <td>37.96413</td>\n      <td>8.3986</td>\n      <td>40.8394</td>\n      <td>0</td>\n      <td>1</td>\n      <td>Keratsini (Agios Georgios)</td>\n      <td>Porto Torres</td>\n      <td>None</td>\n      <td>ITPTO</td>\n    </tr>\n    <tr>\n      <th>4</th>\n      <td>7</td>\n      <td>1193046.0</td>\n      <td>2021-09-01 00:41:26</td>\n      <td>2021-09-01 00:41:26</td>\n      <td>8.398599</td>\n      <td>40.83947</td>\n      <td>23.5571</td>\n      <td>37.9641</td>\n      <td>0</td>\n      <td>1</td>\n      <td>Porto Torres</td>\n      <td>Keratsini (Agios Georgios)</td>\n      <td>ITPTO</td>\n      <td>None</td>\n    </tr>\n  </tbody>\n</table>\n</div>"
          },
          "metadata": {}
        }
      ],
      "execution_count": 39,
      "metadata": {
        "jupyter": {
          "source_hidden": false,
          "outputs_hidden": false
        },
        "nteract": {
          "transient": {
            "deleting": false
          }
        },
        "gather": {
          "logged": 1658246394763
        }
      },
      "id": "a5d7e3ac-95ee-4eef-8839-78235edf8055"
    },
    {
      "cell_type": "markdown",
      "source": [
        "ADD INFORMATION TO THE DATASET"
      ],
      "metadata": {},
      "id": "763c6d90-dd94-44aa-ab6c-7dd15eb78686"
    },
    {
      "cell_type": "code",
      "source": [
        "vessels_mmsi_imo_dict = pd.Series(ais_dataset.imo.values,index=ais_dataset.mmsi).to_dict()\n",
        "#vessels_mmsi_callsign_dict = pd.Series(ais_dataset.callsign.values,index=ais_dataset.mmsi).to_dict()\n",
        "vessels_mmsi_type_summary_dict = pd.Series(ais_dataset.type_summary.values,index=ais_dataset.mmsi).to_dict()\n",
        "\n",
        "vessels_mmsi_imo_clean_dict = {k: vessels_mmsi_imo_dict[k] for k in vessels_mmsi_imo_dict if not pd.isna(vessels_mmsi_imo_dict[k])}\n",
        "#vessels_mmsi_callsign_clean_dict = {k: vessels_mmsi_callsign_dict[k] for k in vessels_mmsi_callsign_dict if not pd.isna(vessels_mmsi_callsign_dict[k])}\n",
        "vessels_mmsi_type_summary_clean_dict = {k: vessels_mmsi_type_summary_dict[k] for k in vessels_mmsi_type_summary_dict if not pd.isna(vessels_mmsi_type_summary_dict[k])}"
      ],
      "outputs": [],
      "execution_count": 26,
      "metadata": {
        "gather": {
          "logged": 1658311758151
        }
      },
      "id": "6da36f46-6cc1-4a9e-8773-40985dacef01"
    },
    {
      "cell_type": "code",
      "source": [
        "vessels_mmsi_type_summary_dict[247046800]\r\n",
        "ais_dataset[ais_dataset['mmsi']==247046800]\r\n",
        "\r\n",
        "uniqueValues = (ais_dataset['shiptype'].append(ais_dataset['type_summary'])).unique()\r\n",
        "uniqueValues"
      ],
      "outputs": [
        {
          "output_type": "execute_result",
          "execution_count": 32,
          "data": {
            "text/plain": "array([7, 3, 9, 6, 8, 0, 4, 2, 1, 'Cargo', 'Tug', 'Pleasure Craft',\n       'NULL', 'Passenger', 'Tanker', 'Special Craft', 'High Speed Craft',\n       'Fishing', 'Sailing Vessel', 'Search and Rescue', 'Other',\n       'Unspecified'], dtype=object)"
          },
          "metadata": {}
        }
      ],
      "execution_count": 32,
      "metadata": {
        "jupyter": {
          "source_hidden": false,
          "outputs_hidden": false
        },
        "nteract": {
          "transient": {
            "deleting": false
          }
        },
        "gather": {
          "logged": 1658312297908
        }
      },
      "id": "7676e9ca-43ad-4b45-9c7a-2acb4eaee414"
    },
    {
      "cell_type": "code",
      "source": [],
      "outputs": [],
      "execution_count": null,
      "metadata": {
        "jupyter": {
          "source_hidden": false,
          "outputs_hidden": false
        },
        "nteract": {
          "transient": {
            "deleting": false
          }
        }
      },
      "id": "1ed860be-c2cc-43cd-824a-a4018a9c0039"
    },
    {
      "cell_type": "code",
      "source": [
        "df_rotte_arrivi_porti[\"imo\"] = df_rotte_arrivi_porti[\"mmsi\"].astype(int)\n",
        "df_rotte_arrivi_porti['imo'].replace(vessels_mmsi_imo_clean_dict ,inplace=True)\n",
        "\n",
        "#df_rotte_arrivi_porti[\"callsign\"] = df_rotte_arrivi_porti[\"mmsi\"].astype(int)\n",
        "#df_rotte_arrivi_porti['callsign'].replace(vessels_mmsi_callsign_clean_dict ,inplace=True)\n",
        "\n",
        "df_rotte_arrivi_porti['type_summary'] = df_rotte_arrivi_porti[\"mmsi\"].astype(int)\n",
        "df_rotte_arrivi_porti['type_summary'].replace(vessels_mmsi_type_summary_clean_dict ,inplace=True)"
      ],
      "outputs": [],
      "execution_count": 41,
      "metadata": {
        "gather": {
          "logged": 1658246441928
        }
      },
      "id": "dac6064d-96af-4643-9a73-022b35537169"
    },
    {
      "cell_type": "code",
      "source": [
        "#export all records\n",
        "df_rotte_arrivi_porti.to_csv(\"df_rotte_arrivi_porti_set2021.csv\",index=False,sep=',')\n",
        "#df_rotte_arrivi_porti"
      ],
      "outputs": [],
      "execution_count": 43,
      "metadata": {
        "gather": {
          "logged": 1658246752879
        }
      },
      "id": "4e41a5aa-e15d-41e8-b525-9cc9af5e8dab"
    },
    {
      "cell_type": "code",
      "source": [
        "#export only records such that a port has been found\n",
        "df_rotte_arrivi_porti_world_found = df_rotte_arrivi_porti[(df_rotte_arrivi_porti['port'] != 'Not found')]\n",
        "#df_rotte_arrivi_porti_world_found.to_csv(rotte_arrivi_porti_world_fname,index=False,sep=',')"
      ],
      "outputs": [],
      "execution_count": null,
      "metadata": {
        "gather": {
          "logged": 1658239306463
        }
      },
      "id": "f1139449-8a9a-40c1-b011-d16a4129970c"
    },
    {
      "cell_type": "markdown",
      "source": [
        "COMPUTE STATISTICS OF ARRIVALS IN THE PORTS"
      ],
      "metadata": {},
      "id": "689b4176-8654-425e-8fd3-ab7816947087"
    },
    {
      "cell_type": "code",
      "source": [
        "#df_rotte_arrivi_porti_world_found.query(\"status > 0\").groupby(['port']).count().to_csv(arrivi_nei_porti_fname,sep=';')"
      ],
      "outputs": [],
      "execution_count": null,
      "metadata": {
        "gather": {
          "logged": 1658239306485
        }
      },
      "id": "c16117cf-4415-4749-a663-fde0458b2243"
    },
    {
      "cell_type": "code",
      "source": [
        "#check\n",
        "#df_rotte_arrivi_porti_world_found[(df_rotte_arrivi_porti_world_found['speed']==0)]"
      ],
      "outputs": [],
      "execution_count": null,
      "metadata": {
        "gather": {
          "logged": 1658239306503
        }
      },
      "id": "f675be19-188f-400f-b447-0d90df20f5d2"
    },
    {
      "cell_type": "code",
      "source": [
        "#df_rotte_all = pd.read_csv(rotte_arrivi_porti_all_fname, sep=',', low_memory=False)"
      ],
      "outputs": [],
      "execution_count": null,
      "metadata": {
        "gather": {
          "logged": 1658239306524
        }
      },
      "id": "f3ebcb74-771d-4d16-a5c7-a00d947764d4"
    },
    {
      "cell_type": "code",
      "source": [
        "#df_rotte_passengers_cargo = df_rotte_all[(df_rotte_all['type_summary']=='Passenger') | (df_rotte_all['type_summary']=='Cargo')]\n",
        "\n",
        "\n",
        "#df_rotte_arrivi_porti_pass_cargo = df_rotte_arrivi_porti[(df_rotte_arrivi_porti['type_summary']=='Passenger') | (df_rotte_arrivi_porti['type_summary']=='Cargo')]\n",
        "#len(df_rotte_arrivi_porti_pass_cargo)"
      ],
      "outputs": [],
      "execution_count": null,
      "metadata": {
        "gather": {
          "logged": 1658239306544
        }
      },
      "id": "17b1a326-fcd0-4208-beea-ce1cec7ff88c"
    },
    {
      "cell_type": "code",
      "source": [
        "#df_rotte_arrivi_porti_pass_cargo.to_csv(\"DCME\\\\AIS\\\\rotte_with_speed_2021\\\\rotte_arrivi_porti_passengers_cargo_set2021.csv\",index=False,sep=',')"
      ],
      "outputs": [],
      "execution_count": null,
      "metadata": {
        "gather": {
          "logged": 1658239306566
        }
      },
      "id": "f1f88803-d3fa-4120-81d9-ccf57697412e"
    }
  ],
  "metadata": {
    "kernelspec": {
      "name": "python3",
      "language": "python",
      "display_name": "Python 3 (ipykernel)"
    },
    "language_info": {
      "name": "python",
      "version": "3.8.5",
      "mimetype": "text/x-python",
      "codemirror_mode": {
        "name": "ipython",
        "version": 3
      },
      "pygments_lexer": "ipython3",
      "nbconvert_exporter": "python",
      "file_extension": ".py"
    },
    "kernel_info": {
      "name": "python3"
    },
    "nteract": {
      "version": "nteract-front-end@1.0.0"
    },
    "microsoft": {
      "host": {
        "AzureML": {
          "notebookHasBeenCompleted": true
        }
      }
    }
  },
  "nbformat": 4,
  "nbformat_minor": 5
}