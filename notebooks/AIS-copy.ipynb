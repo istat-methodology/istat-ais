{
  "cells": [
    {
      "cell_type": "code",
      "source": [
        "import pandas as pd\n",
        "import numpy as np"
      ],
      "outputs": [],
      "execution_count": 27,
      "metadata": {
        "gather": {
          "logged": 1658751925446
        }
      },
      "id": "2aaa6578-ed9c-49f5-9f19-04f5988d633c"
    },
    {
      "cell_type": "code",
      "source": [
        "#!pip install haversine"
      ],
      "outputs": [],
      "execution_count": 2,
      "metadata": {
        "gather": {
          "logged": 1658480054494
        }
      },
      "id": "811cd6ae-13d7-4236-b478-0c7c817acb2e"
    },
    {
      "cell_type": "code",
      "source": [
        "from azureml.core import Datastore,Workspace,Dataset\r\n",
        "# Get a named datastore from the current workspace\r\n",
        "ws = Workspace.from_config()\r\n",
        "datastore = Datastore.get(ws, datastore_name='aisdatastore')"
      ],
      "outputs": [],
      "execution_count": 28,
      "metadata": {
        "jupyter": {
          "source_hidden": false,
          "outputs_hidden": false
        },
        "nteract": {
          "transient": {
            "deleting": false
          }
        },
        "gather": {
          "logged": 1658751929341
        }
      },
      "id": "c28cd2c6-0618-4413-a829-7f0a924e4f21"
    },
    {
      "cell_type": "code",
      "source": [
        "rotte_dataset = ws.datasets[\"rotte\"]"
      ],
      "outputs": [],
      "execution_count": 29,
      "metadata": {
        "jupyter": {
          "source_hidden": false,
          "outputs_hidden": false
        },
        "nteract": {
          "transient": {
            "deleting": false
          }
        },
        "gather": {
          "logged": 1658751961311
        }
      },
      "id": "8dd1b8f9-d80e-481d-82ce-43aaefbc963f"
    },
    {
      "cell_type": "code",
      "source": [
        "from datetime import datetime\r\n",
        "\r\n",
        "def preprocessRotte(df):\r\n",
        "\r\n",
        "    df = df.to_pandas_dataframe()\r\n",
        "    #drop NA values\r\n",
        "    df=df.dropna()\r\n",
        "    #build timestamp column to be added to rotte_092021 dataframe\r\n",
        "    stamp=df['stamp'].astype(float)\r\n",
        "    #stamp    \r\n",
        "    timestamp_column = stamp.apply(lambda x: datetime.fromtimestamp(x))\r\n",
        "    #timestamp_column\r\n",
        "    #add timestamp column to rotte_092021 dataframe\r\n",
        "    df['timestamp'] = timestamp_column.values\r\n",
        "    #sort_dataset by mmsi,stamp,lng,lat\r\n",
        "    df = df.sort_values(by=['mmsi','stamp','lng','lat'],ascending=[True,True,True,True])\r\n",
        "    \r\n",
        "    return df"
      ],
      "outputs": [],
      "execution_count": 30,
      "metadata": {
        "jupyter": {
          "source_hidden": false,
          "outputs_hidden": false
        },
        "nteract": {
          "transient": {
            "deleting": false
          }
        },
        "gather": {
          "logged": 1658751962821
        }
      },
      "id": "98f81e73-f3a7-4567-90ec-6082bee3a439"
    },
    {
      "cell_type": "code",
      "source": [
        "rotte_dataset = preprocessRotte(rotte_dataset)"
      ],
      "outputs": [
        {
          "output_type": "stream",
          "name": "stdout",
          "text": "Resolving access token for scope \"https://datalake.azure.net//.default\" using identity of type \"MANAGED\".\nGetting data access token with Assigned Identity (client_id=clientid) and endpoint type based on configuration\n"
        }
      ],
      "execution_count": 31,
      "metadata": {
        "jupyter": {
          "source_hidden": false,
          "outputs_hidden": false
        },
        "nteract": {
          "transient": {
            "deleting": false
          }
        },
        "gather": {
          "logged": 1658752115739
        }
      },
      "id": "7339772e-b0c3-4c25-955e-5554dcd81fb2"
    },
    {
      "cell_type": "code",
      "source": [
        "ais_dataset =  ws.datasets[\"ais\"]"
      ],
      "outputs": [],
      "execution_count": 32,
      "metadata": {
        "jupyter": {
          "source_hidden": false,
          "outputs_hidden": false
        },
        "nteract": {
          "transient": {
            "deleting": false
          }
        },
        "gather": {
          "logged": 1658752228216
        }
      },
      "id": "c67447a6-d425-430c-b344-3ada7dab99e5"
    },
    {
      "cell_type": "code",
      "source": [
        "shiptypeDict = {\r\n",
        "    \"0\": \"Unspecified\",\r\n",
        "    \"1\": \"NULL\",\r\n",
        "    \"2\": \"Fishing\",\r\n",
        "    \"3\": \"Search and Rescue/Special Craft/Tug/Passenger/Other\",\r\n",
        "    \"4\": \"High Speed Craft\",\r\n",
        "    \"6\": \"Passenger\",\r\n",
        "    \"7\": \"Cargo\",\r\n",
        "    \"8\": \"Tanker\",\r\n",
        "    \"9\": \"Sailing Vessel/Pleasure Craft\"\r\n",
        "}\r\n"
      ],
      "outputs": [],
      "execution_count": 33,
      "metadata": {
        "jupyter": {
          "source_hidden": false,
          "outputs_hidden": false
        },
        "nteract": {
          "transient": {
            "deleting": false
          }
        },
        "gather": {
          "logged": 1658752258800
        }
      },
      "id": "e4af6429-e0d3-450e-ba50-e19a1a2b7e4a"
    },
    {
      "cell_type": "code",
      "source": [
        "def setShipTypeDesc (row):\r\n",
        "    if row['type_summary'] == 'NULL':\r\n",
        "        row['shiptype_desc'] = shiptypeDict[str(row['shiptype'])]\r\n",
        "    else:\r\n",
        "        row['shiptype_desc'] = row['type_summary']"
      ],
      "outputs": [],
      "execution_count": 34,
      "metadata": {
        "jupyter": {
          "source_hidden": false,
          "outputs_hidden": false
        },
        "nteract": {
          "transient": {
            "deleting": false
          }
        },
        "gather": {
          "logged": 1658752274981
        }
      },
      "id": "1690556f-c29b-4c80-b470-1d868c20f4fc"
    },
    {
      "cell_type": "code",
      "source": [
        "def preprocessAIS(df):\r\n",
        "\r\n",
        "    df = df.to_pandas_dataframe()\r\n",
        "    #set type when is NULL\r\n",
        "    df['shiptype_desc'] = df.apply(lambda x: (shiptypeDict[str(x.shiptype)] if x.type_summary == 'NULL' else x.type_summary), axis=1)\r\n",
        "    #keep vessels whose type != Fishing\r\n",
        "    df = df[df['shiptype']!=2]\r\n",
        "    \r\n",
        "    return df"
      ],
      "outputs": [],
      "execution_count": 35,
      "metadata": {
        "jupyter": {
          "source_hidden": false,
          "outputs_hidden": false
        },
        "nteract": {
          "transient": {
            "deleting": false
          }
        },
        "gather": {
          "logged": 1658752337788
        }
      },
      "id": "b15f1d95-211a-4918-85da-f5c6d418f5d5"
    },
    {
      "cell_type": "code",
      "source": [
        "ais_dataset = preprocessAIS(ais_dataset)"
      ],
      "outputs": [],
      "execution_count": 36,
      "metadata": {
        "jupyter": {
          "source_hidden": false,
          "outputs_hidden": false
        },
        "nteract": {
          "transient": {
            "deleting": false
          }
        },
        "gather": {
          "logged": 1658752363340
        }
      },
      "id": "eb1d7842-b3af-4e45-b7ed-c8d86a48eb9d"
    },
    {
      "cell_type": "code",
      "source": [
        "#CHECK\r\n",
        "#ais_dataset[(ais_dataset['type_summary'] != 'NULL')  & (ais_dataset['type_summary'] != ais_dataset['shiptype_desc'])]\r\n",
        "\r\n",
        "ais_dataset[(ais_dataset['type_summary'] != ais_dataset['shiptype_desc'])]"
      ],
      "outputs": [
        {
          "output_type": "execute_result",
          "execution_count": 37,
          "data": {
            "text/plain": "            lat        lng  speed course heading  elapsed    destination flag  \\\n25     40.83993   8.398233    0.0      0    NULL        3     PORTOTORES   IT   \n286    37.23005  15.204770    1.0     36     340        1          ITAUG   CY   \n406    45.63348  13.776620    0.0     57      49        2        TRIESTE   CY   \n528    44.40485   8.896432    0.0    284     103        1          ITGOA   DE   \n593    44.41770   8.791890    0.0     70     255        4  IT LIV>IT GOA   DE   \n...         ...        ...    ...    ...     ...      ...            ...  ...   \n60387  38.44803  15.902660    0.0      0     199        4         IT GIT   LR   \n60418  44.40464   8.896410    0.0    297     296        1  IT LIV>IT GOA   LR   \n60477  44.41850   8.786523    0.0     85      29        2          ITGOA   LR   \n60545  45.45181  12.254980    0.0   NULL    NULL      429           NULL   --   \n60596  45.45181  12.254980    0.0   NULL    NULL        5           None   --   \n\n       length   rot  ...     dwt  gt_shiptype  shiptype       time      imo  \\\n25       35.0  NULL  ...     100         54.0         3 2021-12-14  7512507   \n286     147.0     0  ...    3250        116.0         6 2021-12-13  7602120   \n406      38.0     0  ...     100         93.0         3 2021-10-26  9492995   \n528     294.0     0  ...   66971         11.0         7 2021-10-23  9193305   \n593     336.0     0  ...  103691         11.0         7 2021-10-02  9295268   \n...       ...   ...  ...     ...          ...       ...        ...      ...   \n60387   147.0    -8  ...   13619         11.0         7 2021-10-22  9330238   \n60418   259.0     2  ...   58027         11.0         7 2021-09-23  9495765   \n60477   332.0  -720  ...  108448         11.0         7 2021-09-04  9330070   \n60545     0.0  NULL  ...    NULL          NaN         0 2021-10-08  9086526   \n60596     0.0  NULL  ...    NULL          NaN         0 2021-09-21  9237931   \n\n            mmsi         porto  type_summary  cod_porto  \\\n25      24717000  Porto Torres          NULL      ITPTO   \n286    209510000       Augusta          NULL  IT00ITAUG   \n406    209910000       Trieste          NULL  IT00ITTRS   \n528    211331640        Genova          NULL  IT00ITGOA   \n593    211839000        Genova          NULL  IT00ITGOA   \n...          ...           ...           ...        ...   \n60387  636092525   Gioia Tauro          NULL  IT00ITGIT   \n60418  636092697        Genova          NULL  IT00ITGOA   \n60477  636092986        Genova          NULL  IT00ITGOA   \n60545  667001963       Venezia          NULL  IT00ITVCE   \n60596  671471000       Venezia          NULL  IT00ITVCE   \n\n                                           shiptype_desc  \n25     Search and Rescue/Special Craft/Tug/Passenger/...  \n286                                            Passenger  \n406    Search and Rescue/Special Craft/Tug/Passenger/...  \n528                                                Cargo  \n593                                                Cargo  \n...                                                  ...  \n60387                                              Cargo  \n60418                                              Cargo  \n60477                                              Cargo  \n60545                                        Unspecified  \n60596                                        Unspecified  \n\n[2431 rows x 25 columns]",
            "text/html": "<div>\n<style scoped>\n    .dataframe tbody tr th:only-of-type {\n        vertical-align: middle;\n    }\n\n    .dataframe tbody tr th {\n        vertical-align: top;\n    }\n\n    .dataframe thead th {\n        text-align: right;\n    }\n</style>\n<table border=\"1\" class=\"dataframe\">\n  <thead>\n    <tr style=\"text-align: right;\">\n      <th></th>\n      <th>lat</th>\n      <th>lng</th>\n      <th>speed</th>\n      <th>course</th>\n      <th>heading</th>\n      <th>elapsed</th>\n      <th>destination</th>\n      <th>flag</th>\n      <th>length</th>\n      <th>rot</th>\n      <th>...</th>\n      <th>dwt</th>\n      <th>gt_shiptype</th>\n      <th>shiptype</th>\n      <th>time</th>\n      <th>imo</th>\n      <th>mmsi</th>\n      <th>porto</th>\n      <th>type_summary</th>\n      <th>cod_porto</th>\n      <th>shiptype_desc</th>\n    </tr>\n  </thead>\n  <tbody>\n    <tr>\n      <th>25</th>\n      <td>40.83993</td>\n      <td>8.398233</td>\n      <td>0.0</td>\n      <td>0</td>\n      <td>NULL</td>\n      <td>3</td>\n      <td>PORTOTORES</td>\n      <td>IT</td>\n      <td>35.0</td>\n      <td>NULL</td>\n      <td>...</td>\n      <td>100</td>\n      <td>54.0</td>\n      <td>3</td>\n      <td>2021-12-14</td>\n      <td>7512507</td>\n      <td>24717000</td>\n      <td>Porto Torres</td>\n      <td>NULL</td>\n      <td>ITPTO</td>\n      <td>Search and Rescue/Special Craft/Tug/Passenger/...</td>\n    </tr>\n    <tr>\n      <th>286</th>\n      <td>37.23005</td>\n      <td>15.204770</td>\n      <td>1.0</td>\n      <td>36</td>\n      <td>340</td>\n      <td>1</td>\n      <td>ITAUG</td>\n      <td>CY</td>\n      <td>147.0</td>\n      <td>0</td>\n      <td>...</td>\n      <td>3250</td>\n      <td>116.0</td>\n      <td>6</td>\n      <td>2021-12-13</td>\n      <td>7602120</td>\n      <td>209510000</td>\n      <td>Augusta</td>\n      <td>NULL</td>\n      <td>IT00ITAUG</td>\n      <td>Passenger</td>\n    </tr>\n    <tr>\n      <th>406</th>\n      <td>45.63348</td>\n      <td>13.776620</td>\n      <td>0.0</td>\n      <td>57</td>\n      <td>49</td>\n      <td>2</td>\n      <td>TRIESTE</td>\n      <td>CY</td>\n      <td>38.0</td>\n      <td>0</td>\n      <td>...</td>\n      <td>100</td>\n      <td>93.0</td>\n      <td>3</td>\n      <td>2021-10-26</td>\n      <td>9492995</td>\n      <td>209910000</td>\n      <td>Trieste</td>\n      <td>NULL</td>\n      <td>IT00ITTRS</td>\n      <td>Search and Rescue/Special Craft/Tug/Passenger/...</td>\n    </tr>\n    <tr>\n      <th>528</th>\n      <td>44.40485</td>\n      <td>8.896432</td>\n      <td>0.0</td>\n      <td>284</td>\n      <td>103</td>\n      <td>1</td>\n      <td>ITGOA</td>\n      <td>DE</td>\n      <td>294.0</td>\n      <td>0</td>\n      <td>...</td>\n      <td>66971</td>\n      <td>11.0</td>\n      <td>7</td>\n      <td>2021-10-23</td>\n      <td>9193305</td>\n      <td>211331640</td>\n      <td>Genova</td>\n      <td>NULL</td>\n      <td>IT00ITGOA</td>\n      <td>Cargo</td>\n    </tr>\n    <tr>\n      <th>593</th>\n      <td>44.41770</td>\n      <td>8.791890</td>\n      <td>0.0</td>\n      <td>70</td>\n      <td>255</td>\n      <td>4</td>\n      <td>IT LIV&gt;IT GOA</td>\n      <td>DE</td>\n      <td>336.0</td>\n      <td>0</td>\n      <td>...</td>\n      <td>103691</td>\n      <td>11.0</td>\n      <td>7</td>\n      <td>2021-10-02</td>\n      <td>9295268</td>\n      <td>211839000</td>\n      <td>Genova</td>\n      <td>NULL</td>\n      <td>IT00ITGOA</td>\n      <td>Cargo</td>\n    </tr>\n    <tr>\n      <th>...</th>\n      <td>...</td>\n      <td>...</td>\n      <td>...</td>\n      <td>...</td>\n      <td>...</td>\n      <td>...</td>\n      <td>...</td>\n      <td>...</td>\n      <td>...</td>\n      <td>...</td>\n      <td>...</td>\n      <td>...</td>\n      <td>...</td>\n      <td>...</td>\n      <td>...</td>\n      <td>...</td>\n      <td>...</td>\n      <td>...</td>\n      <td>...</td>\n      <td>...</td>\n      <td>...</td>\n    </tr>\n    <tr>\n      <th>60387</th>\n      <td>38.44803</td>\n      <td>15.902660</td>\n      <td>0.0</td>\n      <td>0</td>\n      <td>199</td>\n      <td>4</td>\n      <td>IT GIT</td>\n      <td>LR</td>\n      <td>147.0</td>\n      <td>-8</td>\n      <td>...</td>\n      <td>13619</td>\n      <td>11.0</td>\n      <td>7</td>\n      <td>2021-10-22</td>\n      <td>9330238</td>\n      <td>636092525</td>\n      <td>Gioia Tauro</td>\n      <td>NULL</td>\n      <td>IT00ITGIT</td>\n      <td>Cargo</td>\n    </tr>\n    <tr>\n      <th>60418</th>\n      <td>44.40464</td>\n      <td>8.896410</td>\n      <td>0.0</td>\n      <td>297</td>\n      <td>296</td>\n      <td>1</td>\n      <td>IT LIV&gt;IT GOA</td>\n      <td>LR</td>\n      <td>259.0</td>\n      <td>2</td>\n      <td>...</td>\n      <td>58027</td>\n      <td>11.0</td>\n      <td>7</td>\n      <td>2021-09-23</td>\n      <td>9495765</td>\n      <td>636092697</td>\n      <td>Genova</td>\n      <td>NULL</td>\n      <td>IT00ITGOA</td>\n      <td>Cargo</td>\n    </tr>\n    <tr>\n      <th>60477</th>\n      <td>44.41850</td>\n      <td>8.786523</td>\n      <td>0.0</td>\n      <td>85</td>\n      <td>29</td>\n      <td>2</td>\n      <td>ITGOA</td>\n      <td>LR</td>\n      <td>332.0</td>\n      <td>-720</td>\n      <td>...</td>\n      <td>108448</td>\n      <td>11.0</td>\n      <td>7</td>\n      <td>2021-09-04</td>\n      <td>9330070</td>\n      <td>636092986</td>\n      <td>Genova</td>\n      <td>NULL</td>\n      <td>IT00ITGOA</td>\n      <td>Cargo</td>\n    </tr>\n    <tr>\n      <th>60545</th>\n      <td>45.45181</td>\n      <td>12.254980</td>\n      <td>0.0</td>\n      <td>NULL</td>\n      <td>NULL</td>\n      <td>429</td>\n      <td>NULL</td>\n      <td>--</td>\n      <td>0.0</td>\n      <td>NULL</td>\n      <td>...</td>\n      <td>NULL</td>\n      <td>NaN</td>\n      <td>0</td>\n      <td>2021-10-08</td>\n      <td>9086526</td>\n      <td>667001963</td>\n      <td>Venezia</td>\n      <td>NULL</td>\n      <td>IT00ITVCE</td>\n      <td>Unspecified</td>\n    </tr>\n    <tr>\n      <th>60596</th>\n      <td>45.45181</td>\n      <td>12.254980</td>\n      <td>0.0</td>\n      <td>NULL</td>\n      <td>NULL</td>\n      <td>5</td>\n      <td>None</td>\n      <td>--</td>\n      <td>0.0</td>\n      <td>NULL</td>\n      <td>...</td>\n      <td>NULL</td>\n      <td>NaN</td>\n      <td>0</td>\n      <td>2021-09-21</td>\n      <td>9237931</td>\n      <td>671471000</td>\n      <td>Venezia</td>\n      <td>NULL</td>\n      <td>IT00ITVCE</td>\n      <td>Unspecified</td>\n    </tr>\n  </tbody>\n</table>\n<p>2431 rows × 25 columns</p>\n</div>"
          },
          "metadata": {}
        }
      ],
      "execution_count": 37,
      "metadata": {
        "jupyter": {
          "source_hidden": false,
          "outputs_hidden": false
        },
        "nteract": {
          "transient": {
            "deleting": false
          }
        },
        "gather": {
          "logged": 1658752366858
        }
      },
      "id": "18448f64-277b-41ca-aea4-6885e763d3eb"
    },
    {
      "cell_type": "code",
      "source": [
        "#ais_dataset[ais_dataset['mmsi']== 209910000]"
      ],
      "outputs": [],
      "execution_count": 130,
      "metadata": {
        "jupyter": {
          "source_hidden": false,
          "outputs_hidden": false
        },
        "nteract": {
          "transient": {
            "deleting": false
          }
        },
        "gather": {
          "logged": 1658501963659
        }
      },
      "id": "763edcfc-60e8-4dec-adc9-3fe1ef82be8c"
    },
    {
      "cell_type": "code",
      "source": [
        "vessels_type = ais_dataset['type_summary'].unique()\n",
        "vessels_flag = ais_dataset['flag'].unique()\n",
        "print(vessels_type)\n",
        "print(vessels_flag)"
      ],
      "outputs": [
        {
          "output_type": "stream",
          "name": "stdout",
          "text": "['Cargo' 'Tug' 'Pleasure Craft' 'NULL' 'Passenger' 'Tanker'\n 'Special Craft' 'High Speed Craft' 'Sailing Vessel' 'Search and Rescue'\n 'Other' 'Unspecified']\n['--' 'KY' 'IT' 'GB' 'DZ' 'MH' 'AL' 'BE' 'BG' 'CY' 'DE' 'MD' 'MT' 'DK'\n 'ES' 'FR' 'GI' 'GR' 'HR' 'MA' 'NL' 'PA' 'KI' 'RU' 'BS' 'LU' 'MC' 'PT'\n 'NO' 'SE' 'CH' 'TR' 'UA' 'LV' 'LT' 'AG' 'BM' 'BZ' 'BB' 'HN' 'US' 'JM'\n 'KN' 'VC' 'VG' 'SA' 'CN' 'TW' 'AZ' 'IL' 'JP' 'KZ' 'KR' 'KW' 'LB' 'QA'\n 'HK' 'PW' 'CK' 'NU' 'PH' 'SG' 'TV' 'VN' 'VU' 'WF' 'CM' 'KM' 'EG' 'LR'\n 'PL' 'LY' 'SL' 'TG' 'TN']\n"
        }
      ],
      "execution_count": 38,
      "metadata": {
        "gather": {
          "logged": 1658752384041
        }
      },
      "id": "7f09928a-b58f-4da2-b4ed-acb0f56bbc8f"
    },
    {
      "cell_type": "code",
      "source": [
        "vessels_mmsi = ais_dataset['mmsi'].unique().astype(int)\n",
        "vessels_imo = ais_dataset['imo'].unique().astype(int)\n",
        "\n",
        "print(len(vessels_mmsi))\n",
        "print(len(vessels_imo))"
      ],
      "outputs": [
        {
          "output_type": "stream",
          "name": "stdout",
          "text": "3150\n3122\n"
        }
      ],
      "execution_count": 39,
      "metadata": {
        "gather": {
          "logged": 1658752391167
        }
      },
      "id": "2016c020-6edf-4486-97eb-d597a879322f"
    },
    {
      "cell_type": "code",
      "source": [
        "world_porti = ws.datasets[\"porti1\"]"
      ],
      "outputs": [],
      "execution_count": 40,
      "metadata": {
        "jupyter": {
          "source_hidden": false,
          "outputs_hidden": false
        },
        "nteract": {
          "transient": {
            "deleting": false
          }
        },
        "gather": {
          "logged": 1658752398764
        }
      },
      "id": "60fb0fcb-1433-48c0-95b7-b0e01045d3b6"
    },
    {
      "cell_type": "code",
      "source": [
        "def preprocessPorts(df):\r\n",
        "\r\n",
        "    try:\r\n",
        "        df = df.to_pandas_dataframe()\r\n",
        "    except Exception as e:\r\n",
        "        print(e)\r\n",
        "    df = df[['Country','Name','Latitude','Longitude','UNLocode']]\r\n",
        "    df.reset_index(drop=True,inplace=True)\r\n",
        "    return df\r\n"
      ],
      "outputs": [],
      "execution_count": 41,
      "metadata": {
        "jupyter": {
          "source_hidden": false,
          "outputs_hidden": false
        },
        "nteract": {
          "transient": {
            "deleting": false
          }
        },
        "gather": {
          "logged": 1658752400797
        }
      },
      "id": "c97e6b98-0525-4045-9b1f-4f9c4a4054ca"
    },
    {
      "cell_type": "code",
      "source": [
        "world_porti = preprocessPorts(world_porti)"
      ],
      "outputs": [],
      "execution_count": 42,
      "metadata": {
        "jupyter": {
          "source_hidden": false,
          "outputs_hidden": false
        },
        "nteract": {
          "transient": {
            "deleting": false
          }
        },
        "gather": {
          "logged": 1658752406703
        }
      },
      "id": "d58617e3-93e9-4e76-9aa4-156bdb09a761"
    },
    {
      "cell_type": "code",
      "source": [
        "#Analysis of data\n",
        "#rotte_dataset_218158000 = rotte_dataset[rotte_dataset['mmsi']=='218158000']\n",
        "\n",
        "#rotte_dataset_201100115 = rotte_dataset[rotte_dataset['mmsi']=='201100115']\n",
        "\n",
        "#rotte_dataset_247046800 = rotte_dataset[rotte_dataset['mmsi']==247046800]\n",
        "#rotte_dataset_247046800.to_csv(\"df_rotte_dataset_247046800_set2021.csv\",index=False,sep=',')\n",
        "\n",
        "rotte_dataset_247043300 = rotte_dataset[rotte_dataset['mmsi']==247043300]\n",
        "rotte_dataset_247043300.to_csv(\"df_rotte_dataset_247043300_set2021.csv\",index=False,sep=',')\n",
        "\n"
      ],
      "outputs": [],
      "execution_count": 21,
      "metadata": {
        "gather": {
          "logged": 1658310616450
        }
      },
      "id": "67dba695-cfcf-4738-8681-a9976533cd8e"
    },
    {
      "cell_type": "code",
      "source": [
        "ais_dataset[ais_dataset['mmsi']==247043300]\r\n"
      ],
      "outputs": [
        {
          "output_type": "execute_result",
          "execution_count": 24,
          "data": {
            "text/plain": "           lat       lng  speed course heading  elapsed destination flag  \\\n7878  40.84383  14.26333    0.0   NULL    NULL        4        None   IT   \n7879  40.83452  14.26462    0.0     32    NULL        3        MARE   IT   \n7880  40.83451  14.26461    0.0     27    NULL      493        MARE   IT   \n7881  40.83452  14.26463    0.0     29    NULL        3        MARE   IT   \n7882  40.83451  14.26464    0.0     30    NULL      469        MARE   IT   \n7883  40.84383  14.26333    0.0   NULL    NULL        4        None   IT   \n7884  40.83512  14.26530   46.0    109    NULL       10        MARE   IT   \n7885  40.84310  14.26370    0.0    109    NULL      822        MARE   IT   \n7886  40.83451  14.26462    0.0     23    NULL        8        MARE   IT   \n\n      length   rot  ... w_left   dwt  gt_shiptype  shiptype       time  \\\n7878     1.0  NULL  ...    0.0  NULL          NaN         1 2021-09-06   \n7879    57.0  NULL  ...    6.0    25         23.0         6 2021-09-07   \n7880    57.0  NULL  ...    6.0    25         23.0         6 2021-09-08   \n7881    57.0  NULL  ...    6.0    25         23.0         6 2021-09-14   \n7882    57.0  NULL  ...    6.0    25         23.0         6 2021-09-15   \n7883     1.0  NULL  ...    0.0  NULL          NaN         1 2021-09-19   \n7884    57.0  NULL  ...    6.0    25         23.0         6 2021-09-24   \n7885    57.0  NULL  ...    6.0    25         23.0         6 2021-09-25   \n7886    57.0  NULL  ...    6.0    25         23.0         6 2021-09-28   \n\n          imo       mmsi   porto type_summary  cod_porto  \n7878  5258482  247043300  Napoli         NULL  IT00ITNAP  \n7879  5258482  247043300  Napoli    Passenger  IT00ITNAP  \n7880  5258482  247043300  Napoli    Passenger  IT00ITNAP  \n7881  5258482  247043300  Napoli    Passenger  IT00ITNAP  \n7882  5258482  247043300  Napoli    Passenger  IT00ITNAP  \n7883  5258482  247043300  Napoli         NULL  IT00ITNAP  \n7884  5258482  247043300  Napoli    Passenger  IT00ITNAP  \n7885  5258482  247043300  Napoli    Passenger  IT00ITNAP  \n7886  5258482  247043300  Napoli    Passenger  IT00ITNAP  \n\n[9 rows x 24 columns]",
            "text/html": "<div>\n<style scoped>\n    .dataframe tbody tr th:only-of-type {\n        vertical-align: middle;\n    }\n\n    .dataframe tbody tr th {\n        vertical-align: top;\n    }\n\n    .dataframe thead th {\n        text-align: right;\n    }\n</style>\n<table border=\"1\" class=\"dataframe\">\n  <thead>\n    <tr style=\"text-align: right;\">\n      <th></th>\n      <th>lat</th>\n      <th>lng</th>\n      <th>speed</th>\n      <th>course</th>\n      <th>heading</th>\n      <th>elapsed</th>\n      <th>destination</th>\n      <th>flag</th>\n      <th>length</th>\n      <th>rot</th>\n      <th>...</th>\n      <th>w_left</th>\n      <th>dwt</th>\n      <th>gt_shiptype</th>\n      <th>shiptype</th>\n      <th>time</th>\n      <th>imo</th>\n      <th>mmsi</th>\n      <th>porto</th>\n      <th>type_summary</th>\n      <th>cod_porto</th>\n    </tr>\n  </thead>\n  <tbody>\n    <tr>\n      <th>7878</th>\n      <td>40.84383</td>\n      <td>14.26333</td>\n      <td>0.0</td>\n      <td>NULL</td>\n      <td>NULL</td>\n      <td>4</td>\n      <td>None</td>\n      <td>IT</td>\n      <td>1.0</td>\n      <td>NULL</td>\n      <td>...</td>\n      <td>0.0</td>\n      <td>NULL</td>\n      <td>NaN</td>\n      <td>1</td>\n      <td>2021-09-06</td>\n      <td>5258482</td>\n      <td>247043300</td>\n      <td>Napoli</td>\n      <td>NULL</td>\n      <td>IT00ITNAP</td>\n    </tr>\n    <tr>\n      <th>7879</th>\n      <td>40.83452</td>\n      <td>14.26462</td>\n      <td>0.0</td>\n      <td>32</td>\n      <td>NULL</td>\n      <td>3</td>\n      <td>MARE</td>\n      <td>IT</td>\n      <td>57.0</td>\n      <td>NULL</td>\n      <td>...</td>\n      <td>6.0</td>\n      <td>25</td>\n      <td>23.0</td>\n      <td>6</td>\n      <td>2021-09-07</td>\n      <td>5258482</td>\n      <td>247043300</td>\n      <td>Napoli</td>\n      <td>Passenger</td>\n      <td>IT00ITNAP</td>\n    </tr>\n    <tr>\n      <th>7880</th>\n      <td>40.83451</td>\n      <td>14.26461</td>\n      <td>0.0</td>\n      <td>27</td>\n      <td>NULL</td>\n      <td>493</td>\n      <td>MARE</td>\n      <td>IT</td>\n      <td>57.0</td>\n      <td>NULL</td>\n      <td>...</td>\n      <td>6.0</td>\n      <td>25</td>\n      <td>23.0</td>\n      <td>6</td>\n      <td>2021-09-08</td>\n      <td>5258482</td>\n      <td>247043300</td>\n      <td>Napoli</td>\n      <td>Passenger</td>\n      <td>IT00ITNAP</td>\n    </tr>\n    <tr>\n      <th>7881</th>\n      <td>40.83452</td>\n      <td>14.26463</td>\n      <td>0.0</td>\n      <td>29</td>\n      <td>NULL</td>\n      <td>3</td>\n      <td>MARE</td>\n      <td>IT</td>\n      <td>57.0</td>\n      <td>NULL</td>\n      <td>...</td>\n      <td>6.0</td>\n      <td>25</td>\n      <td>23.0</td>\n      <td>6</td>\n      <td>2021-09-14</td>\n      <td>5258482</td>\n      <td>247043300</td>\n      <td>Napoli</td>\n      <td>Passenger</td>\n      <td>IT00ITNAP</td>\n    </tr>\n    <tr>\n      <th>7882</th>\n      <td>40.83451</td>\n      <td>14.26464</td>\n      <td>0.0</td>\n      <td>30</td>\n      <td>NULL</td>\n      <td>469</td>\n      <td>MARE</td>\n      <td>IT</td>\n      <td>57.0</td>\n      <td>NULL</td>\n      <td>...</td>\n      <td>6.0</td>\n      <td>25</td>\n      <td>23.0</td>\n      <td>6</td>\n      <td>2021-09-15</td>\n      <td>5258482</td>\n      <td>247043300</td>\n      <td>Napoli</td>\n      <td>Passenger</td>\n      <td>IT00ITNAP</td>\n    </tr>\n    <tr>\n      <th>7883</th>\n      <td>40.84383</td>\n      <td>14.26333</td>\n      <td>0.0</td>\n      <td>NULL</td>\n      <td>NULL</td>\n      <td>4</td>\n      <td>None</td>\n      <td>IT</td>\n      <td>1.0</td>\n      <td>NULL</td>\n      <td>...</td>\n      <td>0.0</td>\n      <td>NULL</td>\n      <td>NaN</td>\n      <td>1</td>\n      <td>2021-09-19</td>\n      <td>5258482</td>\n      <td>247043300</td>\n      <td>Napoli</td>\n      <td>NULL</td>\n      <td>IT00ITNAP</td>\n    </tr>\n    <tr>\n      <th>7884</th>\n      <td>40.83512</td>\n      <td>14.26530</td>\n      <td>46.0</td>\n      <td>109</td>\n      <td>NULL</td>\n      <td>10</td>\n      <td>MARE</td>\n      <td>IT</td>\n      <td>57.0</td>\n      <td>NULL</td>\n      <td>...</td>\n      <td>6.0</td>\n      <td>25</td>\n      <td>23.0</td>\n      <td>6</td>\n      <td>2021-09-24</td>\n      <td>5258482</td>\n      <td>247043300</td>\n      <td>Napoli</td>\n      <td>Passenger</td>\n      <td>IT00ITNAP</td>\n    </tr>\n    <tr>\n      <th>7885</th>\n      <td>40.84310</td>\n      <td>14.26370</td>\n      <td>0.0</td>\n      <td>109</td>\n      <td>NULL</td>\n      <td>822</td>\n      <td>MARE</td>\n      <td>IT</td>\n      <td>57.0</td>\n      <td>NULL</td>\n      <td>...</td>\n      <td>6.0</td>\n      <td>25</td>\n      <td>23.0</td>\n      <td>6</td>\n      <td>2021-09-25</td>\n      <td>5258482</td>\n      <td>247043300</td>\n      <td>Napoli</td>\n      <td>Passenger</td>\n      <td>IT00ITNAP</td>\n    </tr>\n    <tr>\n      <th>7886</th>\n      <td>40.83451</td>\n      <td>14.26462</td>\n      <td>0.0</td>\n      <td>23</td>\n      <td>NULL</td>\n      <td>8</td>\n      <td>MARE</td>\n      <td>IT</td>\n      <td>57.0</td>\n      <td>NULL</td>\n      <td>...</td>\n      <td>6.0</td>\n      <td>25</td>\n      <td>23.0</td>\n      <td>6</td>\n      <td>2021-09-28</td>\n      <td>5258482</td>\n      <td>247043300</td>\n      <td>Napoli</td>\n      <td>Passenger</td>\n      <td>IT00ITNAP</td>\n    </tr>\n  </tbody>\n</table>\n<p>9 rows × 24 columns</p>\n</div>"
          },
          "metadata": {}
        }
      ],
      "execution_count": 24,
      "metadata": {
        "jupyter": {
          "source_hidden": false,
          "outputs_hidden": false
        },
        "nteract": {
          "transient": {
            "deleting": false
          }
        },
        "gather": {
          "logged": 1658310981869
        }
      },
      "id": "44f60306-441d-4717-870e-1d7286135e02"
    },
    {
      "cell_type": "code",
      "source": [
        "#Analysis of data\n",
        "#rotte_dataset_218158000.to_csv(\"DCME\\\\AIS\\\\rotte_with_speed_2021\\\\rotte_arrivi_porti_set2021_218158000.csv\",index=False,sep=',')\n",
        "#rotte_dataset_201100115.to_csv(\"DCME\\\\AIS\\\\rotte_with_speed_2021\\\\rotte_arrivi_porti_set2021_201100115.csv\",index=False,sep=',')"
      ],
      "outputs": [],
      "execution_count": 22,
      "metadata": {
        "gather": {
          "logged": 1658239194408
        }
      },
      "id": "74b11e0d-3b4a-4d34-92e4-3da5cf3d49e5"
    },
    {
      "cell_type": "code",
      "source": [
        "rotte_dataset_mmsi =  rotte_dataset['mmsi'].unique().astype(int)\n",
        "print(len(rotte_dataset_mmsi))"
      ],
      "outputs": [
        {
          "output_type": "stream",
          "name": "stdout",
          "text": "2840\n"
        }
      ],
      "execution_count": 43,
      "metadata": {
        "gather": {
          "logged": 1658752466265
        }
      },
      "id": "9ade7957-27b1-4843-bd7e-1820b99525af"
    },
    {
      "cell_type": "code",
      "source": [
        "#Drop rows whose mmsi is not in rotte_092021_simplified(rotte_092021_mmsi,vessels_mmsi) from rotte_092021,\n",
        "# i.e. get only rows whos mmsi is in mmsi_intersection\n",
        "\n",
        "rotte_dataset_simplified = rotte_dataset[rotte_dataset['mmsi'].astype(int).isin(vessels_mmsi)]\n",
        "#rotte_dataset_simplified.head()\n",
        "print(len(rotte_dataset_simplified))\n",
        "rotte_dataset_simplified = rotte_dataset_simplified.reset_index()\n",
        "#rotte_dataset_simplified.head()"
      ],
      "outputs": [
        {
          "output_type": "stream",
          "name": "stdout",
          "text": "33334193\n"
        }
      ],
      "execution_count": 44,
      "metadata": {
        "gather": {
          "logged": 1658752475172
        }
      },
      "id": "d84c88a0-703a-46aa-8948-9a019c86e5f7"
    },
    {
      "cell_type": "markdown",
      "source": [
        "ELABORAZIONE DELLE ROTTE"
      ],
      "metadata": {},
      "id": "bcce58ff-c8f5-47b2-9dc3-dc4563ba935b"
    },
    {
      "cell_type": "code",
      "source": [
        "from datetime import datetime\n",
        "import haversine as hs\n",
        "from haversine import Unit"
      ],
      "outputs": [],
      "execution_count": 48,
      "metadata": {
        "gather": {
          "logged": 1658752658128
        }
      },
      "id": "1de66ac3-72d8-484b-b4a5-60e138b129f6"
    },
    {
      "cell_type": "code",
      "source": [
        "#elaborazione degli arrivi (df)\n",
        "def arrival_elaboration(df_rotte):\n",
        "    #df_rotte = rottesort\n",
        "\n",
        "    dim=len(df_rotte)\n",
        "    print(\"df_rotte len before: \",dim)\n",
        "\n",
        "    df_arrival = pd.DataFrame(columns = ['row','mmsi','arrival','departure','lng','lat','lng_orig','lat_orig','speed','status'])\n",
        "\n",
        "    oldmmsi=0\n",
        "    sumrec=0\n",
        "    start=0\n",
        "    lat_orig=0\n",
        "    lng_orig=0\n",
        "    oldlng=0\n",
        "    oldlat=0\n",
        "    start = None\n",
        "    i=0\n",
        "    status=0 ###0-nuovo 1-arrivato 2-partito\n",
        "    end = None\n",
        "    speed = None\n",
        "\n",
        "    start_time = datetime.now()\n",
        "\n",
        "    for item in df_rotte.itertuples():\n",
        "        try:\n",
        "            #item = df_rotte.iloc[i]\n",
        "            mmsi,time_voyage,lng,lat,speed = item.mmsi,item.timestamp,float(item.lng),float(item.lat),int(item.speed)\n",
        "\n",
        "            if(mmsi!=oldmmsi):\n",
        "                if (status==1):#si riferisce alla old ship\n",
        "                    df_arrival=df_arrival.append({'row':i,'mmsi':oldmmsi,'arrival':start,\n",
        "                           'departure':end,'lng':oldlng,'lat':oldlat,'lng_orig':lng_orig,'lat_orig':lat_orig,\n",
        "                            'speed':speed,'status':status},ignore_index=True)\n",
        "                start,status,lng_orig,lat_orig,oldlng,oldlat,oldmmsi=None,0,0,0,0,0,mmsi\n",
        "                oldmmsi = mmsi\n",
        "    \n",
        "            if(speed==0):          \n",
        "                if (status==0):\n",
        "                    start,oldlng,oldlat = time_voyage,lng,lat\n",
        "                \n",
        "                #To calculate distance in meters\n",
        "                if(status<2):\n",
        "                    loc1=(lat,lng)\n",
        "                    loc2=(oldlat,oldlng)\n",
        "            \n",
        "                    distance = hs.haversine(loc1,loc2,unit=Unit.METERS)\n",
        "            \n",
        "                    if(distance > 3000.0):\n",
        "                        #print(distance)\n",
        "                        #if ((abs(oldlng-lng)+abs(oldlat-lat))>0.3):\n",
        "                        df_arrival=df_arrival.append({'row':i,'mmsi':oldmmsi,'arrival':start,\n",
        "                           'departure':end,'lng':oldlng,'lat':oldlat,\n",
        "                                       'lng_orig':lng_orig,'lat_orig':lat_orig,'speed':speed,'status':status},ignore_index=True)\n",
        "                        start,lng_orig,lat_orig,oldlng,oldlat = time_voyage,oldlng,oldlat,lng,lat\n",
        "                    \n",
        "                if(status==2):\n",
        "                    start,lng_orig,lat_orig,oldlng,oldlat = time_voyage,oldlng,oldlat,lng,lat\n",
        "                    \n",
        "                end=time_voyage\n",
        "                status=1\n",
        "                \n",
        "            if (speed>0):\n",
        "                if(status==1):\n",
        "                    loc1=(lat,lng)\n",
        "                    loc2=(oldlat,oldlng)\n",
        "                    distance = hs.haversine(loc1,loc2,unit=Unit.METERS)\n",
        "                    if(distance > 3000.0):\n",
        "                        df_arrival=df_arrival.append({'row':i,'mmsi':oldmmsi,'arrival':start,\n",
        "                           'departure':end,'lng':oldlng,'lat':oldlat,\n",
        "                            'lng_orig':lng_orig,'lat_orig':lat_orig,'speed':speed,'status':2},ignore_index=True)\n",
        "                        \n",
        "                        status,lng_orig,lat_orig = 2,oldlng,oldlat\n",
        "                if(status==0):\n",
        "                    status=2\n",
        "                   \n",
        "            #stampa di controllo\n",
        "            if(i%1000000 == 0):\n",
        "               print(i)\n",
        "        except Exception as e:\n",
        "            print(i,\" \")\n",
        "            print(e)\n",
        "        i+=1\n",
        "    #end for\n",
        "    \n",
        "    #scrive l'ultimo record\n",
        "    if(status==1):\n",
        "            df_arrival=df_arrival.append({'row':i,'mmsi':oldmmsi,'arrival':start,\n",
        "                        'departure':end,'lng':oldlng,'lat':oldlat,\n",
        "                        'lng_orig':lng_orig,'lat_orig':lat_orig,'speed':speed,'status':status},ignore_index=True)\n",
        "\n",
        " \n",
        "    end_time = datetime.now()\n",
        "    print('Duration: {}'.format(end_time - start_time))\n",
        "    print(\"df_arrival len after: \",len(df_arrival))\n",
        "    \n",
        "    return(df_arrival)"
      ],
      "outputs": [],
      "execution_count": 49,
      "metadata": {
        "gather": {
          "logged": 1658752662752
        }
      },
      "id": "f7bdf497-93cd-4bcc-80c5-1e5bb89b718e"
    },
    {
      "cell_type": "code",
      "source": [
        "df_rotte = rotte_dataset_simplified[['mmsi','stamp','timestamp','lng','lat','speed']]\n",
        "df_rotte = df_rotte.sort_values(by=['mmsi','stamp'],ascending=[True,True])\n",
        "df_rotte = df_rotte.reset_index()"
      ],
      "outputs": [],
      "execution_count": 46,
      "metadata": {
        "gather": {
          "logged": 1658752594701
        }
      },
      "id": "f9d2e697-52fb-43d6-b064-60dea5a5efdd"
    },
    {
      "cell_type": "code",
      "source": [
        "df_arrival= arrival_elaboration(df_rotte)"
      ],
      "outputs": [
        {
          "output_type": "stream",
          "name": "stdout",
          "text": "df_rotte len before:  33334193\n0\n1000000\n2000000\n3000000\n4000000\n5000000\n6000000\n7000000\n8000000\n9000000\n10000000\n11000000\n12000000\n13000000\n14000000\n15000000\n16000000\n17000000\n18000000\n19000000\n20000000\n21000000\n22000000\n23000000\n24000000\n25000000\n26000000\n27000000\n28000000\n29000000\n30000000\n31000000\n32000000\n33000000\nDuration: 0:18:42.514214\ndf_arrival len after:  82808\n"
        }
      ],
      "execution_count": 50,
      "metadata": {
        "gather": {
          "logged": 1658753790176
        }
      },
      "id": "33e77b83-6e01-47a4-a375-827ccbf3600f"
    },
    {
      "cell_type": "code",
      "source": [
        "#ita_porti = world_porti[world_porti['Country']=='ITA']\n",
        "#len(ita_porti)"
      ],
      "outputs": [
        {
          "output_type": "execute_result",
          "execution_count": 34,
          "data": {
            "text/plain": "457"
          },
          "metadata": {}
        }
      ],
      "execution_count": 34,
      "metadata": {
        "gather": {
          "logged": 1658240892478
        }
      },
      "id": "fea59972-87a7-4e7c-80d9-676dd4b2af5c"
    },
    {
      "cell_type": "code",
      "source": [
        "def port_assign(df_rotte,df_porti):\n",
        "    \n",
        "    n=len(df_rotte)\n",
        "    df = df_rotte\n",
        "    df[\"port\"] = [\"null\"]*n\n",
        "    df[\"port_orig\"] = [\"null\"]*n\n",
        "    df[\"UNLocode\"] = [\"NA\"]*n \n",
        "    df[\"UNLocode_orig\"] = [\"NA\"]*n\n",
        "\n",
        "    start_time = datetime.now()\n",
        "    \n",
        "    i=0\n",
        "    for rotta in df_rotte.itertuples():\n",
        "        found_orig,found=0,0\n",
        "        #departure port position\n",
        "        loc_orig=(float(rotta.lat_orig),float(rotta.lng_orig))\n",
        "        #arrival port position\n",
        "        loc=(float(rotta.lat),float(rotta.lng))\n",
        "        \n",
        "        for porto in df_porti.itertuples():            \n",
        "            loc_port=(float(porto.Latitude),float(porto.Longitude))            \n",
        "            distance1 = hs.haversine(loc,loc_port,unit=Unit.METERS)\n",
        "            if(distance1 < 5000.0):\n",
        "                df.loc[i,'port']=porto.Name\n",
        "                df.loc[i,'UNLocode'] = porto.UNLocode\n",
        "                found=1\n",
        "                break\n",
        "        if (found==0):\n",
        "            df.loc[i,'port']='Not found'\n",
        "        \n",
        "        for porto in df_porti.itertuples():             \n",
        "            loc_port=(float(porto.Latitude),float(porto.Longitude))\n",
        "            distance2 = hs.haversine(loc_orig,loc_port,unit=Unit.METERS)\n",
        "            if(distance2 < 5000.0):\n",
        "                df.loc[i,'port_orig']=porto.Name\n",
        "                df.loc[i,'UNLocode_orig'] = porto.UNLocode\n",
        "                found_orig=1\n",
        "                break    \n",
        "\n",
        "        if (found_orig==0):\n",
        "            df.loc[i,'port_orig']='Not found'\n",
        "            \n",
        "        #stampa di controllo\n",
        "        if(i%10000 == 0):\n",
        "               print(i)\n",
        "        i+=1\n",
        "    \n",
        "    end_time = datetime.now()\n",
        "    print('Duration: {}'.format(end_time - start_time))\n",
        "    print(\"df_arrival len after: \",len(df_arrival))\n",
        "        \n",
        "    return(df)"
      ],
      "outputs": [],
      "execution_count": 51,
      "metadata": {
        "gather": {
          "logged": 1658753801461
        }
      },
      "id": "951222e3-61df-464c-b0b7-3e571a0884de"
    },
    {
      "cell_type": "code",
      "source": [
        "df_rotte_arrivi_porti = port_assign(df_arrival,world_porti)"
      ],
      "outputs": [
        {
          "output_type": "stream",
          "name": "stdout",
          "text": "0\n10000\n20000\n30000\n40000\n50000\n60000\n70000\n80000\nDuration: 0:44:02.455540\ndf_arrival len after:  82808\n"
        }
      ],
      "execution_count": 52,
      "metadata": {
        "gather": {
          "logged": 1658756451935
        }
      },
      "id": "2393f525-f8c7-4789-bb57-b9cf695013eb"
    },
    {
      "cell_type": "code",
      "source": [
        "#export all records 1st and 2nd step\r\n",
        "df_rotte_arrivi_porti.to_csv(\"df_rotte_arrivi_porti_set2021_after_portAssign.csv\",index=False,sep=',')\r\n",
        "#df_rotte_arrivi_porti.head()"
      ],
      "outputs": [],
      "execution_count": 53,
      "metadata": {
        "jupyter": {
          "source_hidden": false,
          "outputs_hidden": false
        },
        "nteract": {
          "transient": {
            "deleting": false
          }
        },
        "gather": {
          "logged": 1658756469989
        }
      },
      "id": "a5d7e3ac-95ee-4eef-8839-78235edf8055"
    },
    {
      "cell_type": "markdown",
      "source": [
        "ARRIVI PARTENZE"
      ],
      "metadata": {
        "nteract": {
          "transient": {
            "deleting": false
          }
        }
      },
      "id": "8995ee5a-db61-40cc-a1e5-50ffa3936f7e"
    },
    {
      "cell_type": "code",
      "source": [
        "#df_rotte_arrivi_porti[[\"arrival\", \"departure\"]] = df_rotte_arrivi_porti[[\"arrival\", \"departure\"]].apply(pd.to_datetime)\r\n",
        "#df_rotte_arrivi_porti.dtypes"
      ],
      "outputs": [],
      "execution_count": 154,
      "metadata": {
        "jupyter": {
          "source_hidden": false,
          "outputs_hidden": false
        },
        "nteract": {
          "transient": {
            "deleting": false
          }
        },
        "gather": {
          "logged": 1658507695464
        }
      },
      "id": "faef31f3-d915-4c5e-9f17-05c08f55812e"
    },
    {
      "cell_type": "code",
      "source": [
        "def calc_tratte(df_arrivi):\r\n",
        "\r\n",
        "    dim=len(df_arrivi)\r\n",
        "    print(\"dim arrivals: \",dim)\r\n",
        "\r\n",
        "    df_arrivi[[\"arrival\", \"departure\"]] = df_arrivi[[\"arrival\", \"departure\"]].apply(pd.to_datetime)\r\n",
        "\r\n",
        "\r\n",
        "    df_tratte = pd.DataFrame(columns = ['mmsi','partenza','porto_orig','cod_orig','arrivo','porto_dest','cod_dest','status'])\r\n",
        "\r\n",
        "    prevmmsi=0\r\n",
        "\r\n",
        "    i=0\r\n",
        "    status=0 ###\r\n",
        "    prevpartenza=\"\"\r\n",
        "    prevport=\"\"\r\n",
        "    prevcode=\"\"\r\n",
        "\r\n",
        "    start_time = datetime.now()\r\n",
        "\r\n",
        "    for current in df_arrivi.itertuples():\r\n",
        "        i=i+1\r\n",
        "\r\n",
        "        if (current.mmsi!=prevmmsi):\r\n",
        "            if (prevpartenza!=\"\"):\r\n",
        "                df_tratte=df_tratte.append({'mmsi':prevmmsi,'partenza':prevpartenza,\r\n",
        "                    'porto_orig':prevport,'cod_orig':prevcode,'arrivo':\"\",\r\n",
        "                    'porto_dest':\"\",'cod_dest':\"\",'status':status},ignore_index=True)\r\n",
        "            prevpartenza=\"\"\r\n",
        "            prevport=\"\"\r\n",
        "            prevcode=\"\"\r\n",
        "\r\n",
        "        time_approdo=(current.departure-current.arrival).seconds\r\n",
        "        if (time_approdo>=900 and current.port!=\"Not found\"):\r\n",
        "            #print(\"rec \",i,\" : \",current)\r\n",
        "            df_tratte=df_tratte.append({'mmsi':current.mmsi,'partenza':prevpartenza,\r\n",
        "                'porto_orig':prevport,'cod_orig':prevcode,'arrivo':current.arrival,\r\n",
        "                'porto_dest':current.port,'cod_dest':current.UNLocode,'status':status},ignore_index=True)\r\n",
        "            prevmmsi=current.mmsi\r\n",
        "            prevpartenza=current.departure\r\n",
        "            prevport=current.port\r\n",
        "            prevcode=current.UNLocode\r\n",
        "        \r\n",
        "        if(i%10000 == 0):\r\n",
        "               print(i)\r\n",
        "\r\n",
        "    if (prevpartenza!=\"\"):\r\n",
        "        df_tratte=df_tratte.append({'mmsi':prevmmsi,'partenza':prevpartenza,\r\n",
        "            'porto_orig':prevport,'cod_orig':prevcode,'arrivo':\"\",\r\n",
        "            'porto_dest':\"\",'cod_dest':\"\",'status':status},ignore_index=True)\r\n",
        "\r\n",
        "\r\n",
        "    end_time = datetime.now()\r\n",
        "    print('Duration: {}'.format(end_time - start_time))\r\n",
        "    print(\"df_arrival len after: \",len(df_arrival))\r\n",
        "    \r\n",
        "    return(df_tratte)"
      ],
      "outputs": [],
      "execution_count": 54,
      "metadata": {
        "jupyter": {
          "source_hidden": false,
          "outputs_hidden": false
        },
        "nteract": {
          "transient": {
            "deleting": false
          }
        },
        "gather": {
          "logged": 1658756520471
        }
      },
      "id": "69cc53d2-cf05-49cc-bf4d-cbde603770ef"
    },
    {
      "cell_type": "code",
      "source": [
        "df_rotte_arrivi_porti=calc_tratte(df_rotte_arrivi_porti)"
      ],
      "outputs": [
        {
          "output_type": "stream",
          "name": "stdout",
          "text": "dim arrivals:  82808\n10000\n20000\n30000\n40000\n50000\n60000\n70000\n80000\nDuration: 0:04:51.142784\ndf_arrival len after:  82808\n"
        }
      ],
      "execution_count": 55,
      "metadata": {
        "jupyter": {
          "source_hidden": false,
          "outputs_hidden": false
        },
        "nteract": {
          "transient": {
            "deleting": false
          }
        },
        "gather": {
          "logged": 1658756818689
        }
      },
      "id": "9fd8a2c9-d2a3-4807-8641-712f3cb9d30c"
    },
    {
      "cell_type": "markdown",
      "source": [
        "ADD INFORMATION TO THE DATASET"
      ],
      "metadata": {},
      "id": "763c6d90-dd94-44aa-ab6c-7dd15eb78686"
    },
    {
      "cell_type": "code",
      "source": [
        "vessels_mmsi_imo_dict = pd.Series(ais_dataset.imo.values,index=ais_dataset.mmsi).to_dict()\n",
        "#vessels_mmsi_callsign_dict = pd.Series(ais_dataset.callsign.values,index=ais_dataset.mmsi).to_dict()\n",
        "vessels_mmsi_shiptype_desc_dict = pd.Series(ais_dataset.shiptype_desc.values,index=ais_dataset.mmsi).to_dict()\n",
        "vessels_mmsi_type_summary_dict = pd.Series(ais_dataset.type_summary.values,index=ais_dataset.mmsi).to_dict()\n",
        "\n",
        "vessels_mmsi_imo_clean_dict = {k: vessels_mmsi_imo_dict[k] for k in vessels_mmsi_imo_dict if not pd.isna(vessels_mmsi_imo_dict[k])}\n",
        "#vessels_mmsi_callsign_clean_dict = {k: vessels_mmsi_callsign_dict[k] for k in vessels_mmsi_callsign_dict if not pd.isna(vessels_mmsi_callsign_dict[k])}\n",
        "vessels_mmsi_shiptype_desc_clean_dict = {k: vessels_mmsi_shiptype_desc_dict[k] for k in vessels_mmsi_shiptype_desc_dict if not pd.isna(vessels_mmsi_shiptype_desc_dict[k])}\n",
        "vessels_mmsi_type_summary_clean_dict = {k: vessels_mmsi_type_summary_dict[k] for k in vessels_mmsi_type_summary_dict if not pd.isna(vessels_mmsi_type_summary_dict[k])}"
      ],
      "outputs": [],
      "execution_count": 56,
      "metadata": {
        "gather": {
          "logged": 1658756892409
        }
      },
      "id": "6da36f46-6cc1-4a9e-8773-40985dacef01"
    },
    {
      "cell_type": "code",
      "source": [
        "df_rotte_arrivi_porti[\"imo\"] = df_rotte_arrivi_porti[\"mmsi\"].astype(int)\n",
        "df_rotte_arrivi_porti['imo'].replace(vessels_mmsi_imo_clean_dict ,inplace=True)\n",
        "\n",
        "#df_rotte_arrivi_porti[\"callsign\"] = df_rotte_arrivi_porti[\"mmsi\"].astype(int)\n",
        "#df_rotte_arrivi_porti['callsign'].replace(vessels_mmsi_callsign_clean_dict ,inplace=True)\n",
        "\n",
        "df_rotte_arrivi_porti['shiptype_desc'] = df_rotte_arrivi_porti[\"mmsi\"].astype(int)\n",
        "df_rotte_arrivi_porti['shiptype_desc'].replace(vessels_mmsi_shiptype_desc_clean_dict ,inplace=True)\n",
        "\n",
        "df_rotte_arrivi_porti['type_summary'] = df_rotte_arrivi_porti[\"mmsi\"].astype(int)\n",
        "df_rotte_arrivi_porti['type_summary'].replace(vessels_mmsi_type_summary_clean_dict ,inplace=True)"
      ],
      "outputs": [],
      "execution_count": 57,
      "metadata": {
        "gather": {
          "logged": 1658756895399
        }
      },
      "id": "dac6064d-96af-4643-9a73-022b35537169"
    },
    {
      "cell_type": "code",
      "source": [
        "#export all records\n",
        "df_rotte_arrivi_porti.to_csv(\"df_rotte_arrivi_porti_set2021_final.csv\",index=False,sep=',')\n",
        "#df_rotte_arrivi_porti"
      ],
      "outputs": [],
      "execution_count": 58,
      "metadata": {
        "gather": {
          "logged": 1658756907223
        }
      },
      "id": "4e41a5aa-e15d-41e8-b525-9cc9af5e8dab"
    },
    {
      "cell_type": "code",
      "source": [
        "#export only records such that a port has been found\n",
        "#df_rotte_arrivi_porti_world_found = df_rotte_arrivi_porti[(df_rotte_arrivi_porti['port'] != 'Not found')]\n",
        "#df_rotte_arrivi_porti_world_found.to_csv(rotte_arrivi_porti_world_fname,index=False,sep=',')"
      ],
      "outputs": [],
      "execution_count": null,
      "metadata": {
        "gather": {
          "logged": 1658239306463
        }
      },
      "id": "f1139449-8a9a-40c1-b011-d16a4129970c"
    },
    {
      "cell_type": "markdown",
      "source": [
        "COMPUTE STATISTICS OF ARRIVALS IN THE PORTS"
      ],
      "metadata": {},
      "id": "689b4176-8654-425e-8fd3-ab7816947087"
    },
    {
      "cell_type": "code",
      "source": [
        "#df_rotte_arrivi_porti = pd.read_csv(\"df_rotte_arrivi_porti_set2021.csv\", sep=',')"
      ],
      "outputs": [],
      "execution_count": 4,
      "metadata": {
        "jupyter": {
          "source_hidden": false,
          "outputs_hidden": false
        },
        "nteract": {
          "transient": {
            "deleting": false
          }
        },
        "gather": {
          "logged": 1658736895486
        }
      },
      "id": "9d88a664-a4b4-4ab2-8d52-7ae52e57636e"
    },
    {
      "cell_type": "code",
      "source": [
        "df_rotte_arrivi_porti.head()"
      ],
      "outputs": [
        {
          "output_type": "execute_result",
          "execution_count": 59,
          "data": {
            "text/plain": "        mmsi             partenza    porto_orig cod_orig               arrivo  \\\n0  1193046.0                                              2021-09-01 01:29:26   \n1  1193046.0  2021-09-01 01:50:28  Porto Torres    ITPTO  2021-09-01 02:26:27   \n2  1193046.0  2021-09-01 02:41:28  Porto Torres    ITPTO  2021-09-01 04:23:29   \n3  1193046.0  2021-09-01 04:44:31  Porto Torres    ITPTO  2021-09-01 05:35:31   \n4  1193046.0  2021-09-01 20:20:53  Porto Torres    ITPTO  2021-09-01 20:38:53   \n\n     porto_dest cod_dest status      imo shiptype_desc type_summary  \n0  Porto Torres    ITPTO      0  7512507           Tug          Tug  \n1  Porto Torres    ITPTO      0  7512507           Tug          Tug  \n2  Porto Torres    ITPTO      0  7512507           Tug          Tug  \n3  Porto Torres    ITPTO      0  7512507           Tug          Tug  \n4  Porto Torres    ITPTO      0  7512507           Tug          Tug  ",
            "text/html": "<div>\n<style scoped>\n    .dataframe tbody tr th:only-of-type {\n        vertical-align: middle;\n    }\n\n    .dataframe tbody tr th {\n        vertical-align: top;\n    }\n\n    .dataframe thead th {\n        text-align: right;\n    }\n</style>\n<table border=\"1\" class=\"dataframe\">\n  <thead>\n    <tr style=\"text-align: right;\">\n      <th></th>\n      <th>mmsi</th>\n      <th>partenza</th>\n      <th>porto_orig</th>\n      <th>cod_orig</th>\n      <th>arrivo</th>\n      <th>porto_dest</th>\n      <th>cod_dest</th>\n      <th>status</th>\n      <th>imo</th>\n      <th>shiptype_desc</th>\n      <th>type_summary</th>\n    </tr>\n  </thead>\n  <tbody>\n    <tr>\n      <th>0</th>\n      <td>1193046.0</td>\n      <td></td>\n      <td></td>\n      <td></td>\n      <td>2021-09-01 01:29:26</td>\n      <td>Porto Torres</td>\n      <td>ITPTO</td>\n      <td>0</td>\n      <td>7512507</td>\n      <td>Tug</td>\n      <td>Tug</td>\n    </tr>\n    <tr>\n      <th>1</th>\n      <td>1193046.0</td>\n      <td>2021-09-01 01:50:28</td>\n      <td>Porto Torres</td>\n      <td>ITPTO</td>\n      <td>2021-09-01 02:26:27</td>\n      <td>Porto Torres</td>\n      <td>ITPTO</td>\n      <td>0</td>\n      <td>7512507</td>\n      <td>Tug</td>\n      <td>Tug</td>\n    </tr>\n    <tr>\n      <th>2</th>\n      <td>1193046.0</td>\n      <td>2021-09-01 02:41:28</td>\n      <td>Porto Torres</td>\n      <td>ITPTO</td>\n      <td>2021-09-01 04:23:29</td>\n      <td>Porto Torres</td>\n      <td>ITPTO</td>\n      <td>0</td>\n      <td>7512507</td>\n      <td>Tug</td>\n      <td>Tug</td>\n    </tr>\n    <tr>\n      <th>3</th>\n      <td>1193046.0</td>\n      <td>2021-09-01 04:44:31</td>\n      <td>Porto Torres</td>\n      <td>ITPTO</td>\n      <td>2021-09-01 05:35:31</td>\n      <td>Porto Torres</td>\n      <td>ITPTO</td>\n      <td>0</td>\n      <td>7512507</td>\n      <td>Tug</td>\n      <td>Tug</td>\n    </tr>\n    <tr>\n      <th>4</th>\n      <td>1193046.0</td>\n      <td>2021-09-01 20:20:53</td>\n      <td>Porto Torres</td>\n      <td>ITPTO</td>\n      <td>2021-09-01 20:38:53</td>\n      <td>Porto Torres</td>\n      <td>ITPTO</td>\n      <td>0</td>\n      <td>7512507</td>\n      <td>Tug</td>\n      <td>Tug</td>\n    </tr>\n  </tbody>\n</table>\n</div>"
          },
          "metadata": {}
        }
      ],
      "execution_count": 59,
      "metadata": {
        "jupyter": {
          "source_hidden": false,
          "outputs_hidden": false
        },
        "nteract": {
          "transient": {
            "deleting": false
          }
        },
        "gather": {
          "logged": 1658756935197
        }
      },
      "id": "cf530173-bffa-4f65-bb07-4a6cdf44472f"
    },
    {
      "cell_type": "code",
      "source": [
        "df_rotte_arrivi_porti[df_rotte_arrivi_porti['cod_orig'].str.startswith('IT', na=False)].groupby(['cod_orig','porto_orig']).size().to_csv('rotte_arrivi_porti_set2021_tot_port_orig.csv',index=False,sep=',')"
      ],
      "outputs": [],
      "execution_count": 60,
      "metadata": {
        "gather": {
          "logged": 1658756991018
        }
      },
      "id": "c16117cf-4415-4749-a663-fde0458b2243"
    },
    {
      "cell_type": "code",
      "source": [
        "df_rotte_arrivi_porti[df_rotte_arrivi_porti['cod_dest'].str.startswith('IT', na=False)].groupby(['cod_dest','porto_dest']).size().to_csv('rotte_arrivi_porti_set2021_tot_port_dest.csv',index=False,sep=',')"
      ],
      "outputs": [],
      "execution_count": 61,
      "metadata": {
        "jupyter": {
          "source_hidden": false,
          "outputs_hidden": false
        },
        "nteract": {
          "transient": {
            "deleting": false
          }
        },
        "gather": {
          "logged": 1658757031719
        }
      },
      "id": "591f62a8-ff07-4718-aead-20bc011a73b7"
    },
    {
      "cell_type": "code",
      "source": [
        "#imo==5271367\n",
        "\n",
        "\n",
        "df_rotte_arrivi_porti[df_rotte_arrivi_porti['mmsi'] == 247056900].groupby(['cod_dest','porto_dest']).size()"
      ],
      "outputs": [
        {
          "output_type": "execute_result",
          "execution_count": 63,
          "data": {
            "text/plain": "cod_dest  porto_dest\n                        1\nITCLF     Carloforte    6\nITPMO     Palermo       1\ndtype: int64"
          },
          "metadata": {}
        }
      ],
      "execution_count": 63,
      "metadata": {
        "gather": {
          "logged": 1658757076911
        }
      },
      "id": "f675be19-188f-400f-b447-0d90df20f5d2"
    },
    {
      "cell_type": "code",
      "source": [
        "#df_rotte_all = pd.read_csv(rotte_arrivi_porti_all_fname, sep=',', low_memory=False)"
      ],
      "outputs": [],
      "execution_count": null,
      "metadata": {
        "gather": {
          "logged": 1658239306524
        }
      },
      "id": "f3ebcb74-771d-4d16-a5c7-a00d947764d4"
    },
    {
      "cell_type": "code",
      "source": [
        "#df_rotte_passengers_cargo = df_rotte_all[(df_rotte_all['type_summary']=='Passenger') | (df_rotte_all['type_summary']=='Cargo')]\n",
        "\n",
        "\n",
        "#df_rotte_arrivi_porti_pass_cargo = df_rotte_arrivi_porti[(df_rotte_arrivi_porti['type_summary']=='Passenger') | (df_rotte_arrivi_porti['type_summary']=='Cargo')]\n",
        "#len(df_rotte_arrivi_porti_pass_cargo)"
      ],
      "outputs": [],
      "execution_count": null,
      "metadata": {
        "gather": {
          "logged": 1658239306544
        }
      },
      "id": "17b1a326-fcd0-4208-beea-ce1cec7ff88c"
    },
    {
      "cell_type": "code",
      "source": [
        "#df_rotte_arrivi_porti_pass_cargo.to_csv(\"DCME\\\\AIS\\\\rotte_with_speed_2021\\\\rotte_arrivi_porti_passengers_cargo_set2021.csv\",index=False,sep=',')"
      ],
      "outputs": [],
      "execution_count": null,
      "metadata": {
        "gather": {
          "logged": 1658239306566
        }
      },
      "id": "f1f88803-d3fa-4120-81d9-ccf57697412e"
    }
  ],
  "metadata": {
    "kernelspec": {
      "name": "python3",
      "language": "python",
      "display_name": "Python 3 (ipykernel)"
    },
    "language_info": {
      "name": "python",
      "version": "3.8.5",
      "mimetype": "text/x-python",
      "codemirror_mode": {
        "name": "ipython",
        "version": 3
      },
      "pygments_lexer": "ipython3",
      "nbconvert_exporter": "python",
      "file_extension": ".py"
    },
    "kernel_info": {
      "name": "python3"
    },
    "nteract": {
      "version": "nteract-front-end@1.0.0"
    },
    "microsoft": {
      "host": {
        "AzureML": {
          "notebookHasBeenCompleted": true
        }
      }
    }
  },
  "nbformat": 4,
  "nbformat_minor": 5
}